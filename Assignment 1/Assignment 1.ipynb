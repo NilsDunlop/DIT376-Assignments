{
 "cells": [
  {
   "cell_type": "markdown",
   "id": "048084f6",
   "metadata": {},
   "source": [
    "# Assignment 1\n",
    "Group Members:\n",
    "* **Erdem Halil**, e-mail: gushaliler@student.gu.se\n",
    "* **Nils Dunlop**, e-mail: gusdunlni@student.gu.se"
   ]
  },
  {
   "cell_type": "markdown",
   "id": "02126993",
   "metadata": {},
   "source": [
    "## Problem 1\n",
    "- Plinth Volume Calculator"
   ]
  },
  {
   "cell_type": "code",
   "execution_count": 2,
   "id": "5ea02b44",
   "metadata": {},
   "outputs": [],
   "source": [
    "# Import Libraries\n",
    "import sys"
   ]
  },
  {
   "cell_type": "markdown",
   "id": "469102dc",
   "metadata": {},
   "source": [
    "#### Function to Calculate the Volume"
   ]
  },
  {
   "cell_type": "code",
   "execution_count": 3,
   "id": "b384c079",
   "metadata": {},
   "outputs": [],
   "source": [
    "def calculate_plinth_volume(top_width, bottom_width):\n",
    "    \"\"\"Calculate the volume of a plinth based on the top and bottom widths.\"\"\"\n",
    "    if bottom_width < top_width:\n",
    "        print(\"The ground level width cannot be less than the highest level width.\")\n",
    "        sys.exit()\n",
    "\n",
    "    volume = 0\n",
    "    levels = bottom_width - top_width\n",
    "    height, depth = 1, 2  # Constants represent the height and depth of each level.\n",
    "    \n",
    "    for i in range(levels + 1):\n",
    "        volume += height * depth * (bottom_width - i)\n",
    "    \n",
    "    return volume"
   ]
  },
  {
   "cell_type": "markdown",
   "id": "c5fc86f2",
   "metadata": {},
   "source": [
    "#### Getting User Input and Displaying the Result"
   ]
  },
  {
   "cell_type": "code",
   "execution_count": 4,
   "id": "81f673fb",
   "metadata": {},
   "outputs": [
    {
     "name": "stdout",
     "output_type": "stream",
     "text": [
      "Enter the width of the plinth at the highest level: 3\n",
      "Enter the width of the plinth at ground level: 8\n",
      "Volume of plinth: 66\n"
     ]
    }
   ],
   "source": [
    "# User input\n",
    "top_width = int(input(\"Enter the width of the plinth at the highest level: \"))\n",
    "bottom_width = int(input(\"Enter the width of the plinth at ground level: \"))\n",
    "\n",
    "volume = calculate_plinth_volume(top_width, bottom_width)\n",
    "print(f\"Volume of plinth: {volume}\")"
   ]
  },
  {
   "cell_type": "markdown",
   "id": "a06deae7",
   "metadata": {},
   "source": [
    "## Problem 2\n",
    "Extracting and Processing EU Health Care Data"
   ]
  },
  {
   "cell_type": "markdown",
   "id": "70d04133",
   "metadata": {},
   "source": [
    "#### Import Necessary Libraries"
   ]
  },
  {
   "cell_type": "code",
   "execution_count": 3,
   "id": "261d1a96",
   "metadata": {},
   "outputs": [],
   "source": [
    "import tarfile\n",
    "import pandas as pd\n",
    "import os"
   ]
  },
  {
   "cell_type": "markdown",
   "id": "2527e890",
   "metadata": {},
   "source": [
    "#### Define Helper Functions"
   ]
  },
  {
   "cell_type": "code",
   "execution_count": 4,
   "id": "28282df3",
   "metadata": {},
   "outputs": [],
   "source": [
    "def extract_tar_gz(file_name, extract_to):\n",
    "    \"\"\"Extract the tar.gz file.\"\"\"\n",
    "    with tarfile.open(file_name, 'r:gz') as file:\n",
    "        file.extractall(path=extract_to)\n",
    "\n",
    "def merge_files_to_csv(directory, output_file):\n",
    "    \"\"\"Merge all files in directory to a single CSV file.\"\"\"\n",
    "    all_data = []\n",
    "\n",
    "    for file in os.listdir(directory):\n",
    "        country_name = os.path.splitext(file)[0]  # Removing the file extension to get the country's name\n",
    "        file_path = os.path.join(directory, file)\n",
    "        \n",
    "        data = pd.read_csv(file_path)\n",
    "        data['Country'] = country_name  # Add a new 'Country' column\n",
    "        all_data.append(data)\n",
    "\n",
    "    combined_data = pd.concat(all_data, ignore_index=True)\n",
    "    combined_data.to_csv(output_file, index=False)\n",
    "\n",
    "def services_per_country(csv_file):\n",
    "    \"\"\"Return the number of health care services listed per country.\"\"\"\n",
    "    df = pd.read_csv(csv_file)\n",
    "    count_df = df.groupby('Country').size().reset_index(name='Number of Services')\n",
    "    return count_df"
   ]
  },
  {
   "cell_type": "markdown",
   "id": "0d0841de",
   "metadata": {},
   "source": [
    "#### Extract Data"
   ]
  },
  {
   "cell_type": "code",
   "execution_count": 5,
   "id": "509d0103",
   "metadata": {},
   "outputs": [],
   "source": [
    "# Extract tar.gz\n",
    "extract_to_dir = 'C:\\\\Users\\\\nilsd\\\\Desktop\\\\Masters\\\\DIT376\\\\Assignments\\\\Extracted'\n",
    "tar_gz_file = 'C:\\\\Users\\\\nilsd\\\\Desktop\\\\Masters\\\\DIT376\\\\Assignments\\\\A1.tar.gz'\n",
    "extract_tar_gz(tar_gz_file, extract_to_dir)"
   ]
  },
  {
   "cell_type": "markdown",
   "id": "09627b9f",
   "metadata": {},
   "source": [
    "#### Merge Country Datasets and Present Output"
   ]
  },
  {
   "cell_type": "code",
   "execution_count": 6,
   "id": "82838621",
   "metadata": {},
   "outputs": [
    {
     "name": "stdout",
     "output_type": "stream",
     "text": [
      "        Country  Number of Services\n",
      "0       Austria                 266\n",
      "1       Belgium                 272\n",
      "2      Bulgaria                 673\n",
      "3       Croatia                  61\n",
      "4        Cyprus                  11\n",
      "5       Czechia                 248\n",
      "6       Denmark                  61\n",
      "7       Finland                 372\n",
      "8        France                5368\n",
      "9       Germany                2809\n",
      "10       Greece                 125\n",
      "11      Hungary                 135\n",
      "12      Ireland                 199\n",
      "13        Italy                1283\n",
      "14       Latvia                  44\n",
      "15    Lithuania                 142\n",
      "16   Luxembourg                  21\n",
      "17        Malta                   9\n",
      "18  Netherlands                 245\n",
      "19       Norway                 640\n",
      "20       Poland                 466\n",
      "21     Portugal                  94\n",
      "22      Romania                 179\n",
      "23     Slovakia                 128\n",
      "24     Slovenia                  31\n",
      "25        Spain                 809\n",
      "26       Sweden                 132\n",
      "27  Switzerland                 358\n"
     ]
    }
   ],
   "source": [
    "# Merge files inside 'data' directory to a single CSV\n",
    "data_dir = os.path.join(extract_to_dir, 'data')\n",
    "output_csv = 'combined_data.csv'\n",
    "merge_files_to_csv(data_dir, output_csv)\n",
    "\n",
    "# Display number of services per country\n",
    "df = services_per_country(output_csv)\n",
    "print(df)"
   ]
  }
 ],
 "metadata": {
  "kernelspec": {
   "display_name": "Python 3 (ipykernel)",
   "language": "python",
   "name": "python3"
  },
  "language_info": {
   "codemirror_mode": {
    "name": "ipython",
    "version": 3
   },
   "file_extension": ".py",
   "mimetype": "text/x-python",
   "name": "python",
   "nbconvert_exporter": "python",
   "pygments_lexer": "ipython3",
   "version": "3.10.9"
  }
 },
 "nbformat": 4,
 "nbformat_minor": 5
}
