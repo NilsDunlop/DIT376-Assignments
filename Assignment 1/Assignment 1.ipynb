{
 "cells": [
  {
   "cell_type": "markdown",
   "id": "048084f6",
   "metadata": {},
   "source": [
    "# Assignment 1\n",
    "## Group Members:\n",
    "* ### Nils Dunlop, e-mail: gusdunlni@student.gu.se\n",
    "* ### Francisco Alejandro Erazo Piza, e-mail: guserafr@student.gu.se"
   ]
  },
  {
   "cell_type": "markdown",
   "id": "02126993",
   "metadata": {},
   "source": [
    "## Problem 1: Plinth Volume Calculator"
   ]
  },
  {
   "cell_type": "markdown",
   "id": "a88864c0",
   "metadata": {},
   "source": [
    "#### Define user input function"
   ]
  },
  {
   "cell_type": "code",
   "execution_count": 25,
   "id": "5ea02b44",
   "metadata": {},
   "outputs": [
    {
     "name": "stdout",
     "output_type": "stream",
     "text": [
      "Enter the width of the plinth at the highest level in meters: 3\n",
      "Enter the width of the plinth at the ground level in meters: 8\n"
     ]
    }
   ],
   "source": [
    "# Function to ask user for inputs and validate them before returning them\n",
    "def ask_user_for_inputs():\n",
    "    while True:\n",
    "        try:\n",
    "            width_highest_level = int(input(\"Enter the width of the plinth at the highest level in meters: \"))\n",
    "            width_ground_level = int(input(\"Enter the width of the plinth at the ground level in meters: \"))\n",
    "            \n",
    "            # To avoid negative values\n",
    "            if width_highest_level < 0 or width_ground_level < 0:\n",
    "                raise ValueError(\"Width values cannot be negative.\")\n",
    "            \n",
    "            # For the structure of the plinth, the width at the highest level cannot be greater than the width at the ground level\n",
    "            if width_highest_level > width_ground_level:\n",
    "                raise ValueError(\"Width at highest level cannot be greater than width at ground level.\")\n",
    "            \n",
    "            break  # If we reached here without any exceptions, inputs are valid\n",
    "            \n",
    "        except ValueError as e:\n",
    "            print(f\"Invalid input: {e}. Please enter valid positive integers.\")\n",
    "\n",
    "    return width_highest_level, width_ground_level\n",
    "\n",
    "# call the function and print the results\n",
    "width_highest, width_ground = ask_user_for_inputs()"
   ]
  },
  {
   "cell_type": "markdown",
   "id": "2dc05362",
   "metadata": {},
   "source": [
    "#### Define function to calculate plinth volume"
   ]
  },
  {
   "cell_type": "code",
   "execution_count": 26,
   "id": "bab8499d",
   "metadata": {},
   "outputs": [],
   "source": [
    "# Function to calculate the floor's volume\n",
    "def floor_volume(width_ground_level, width_highest_level):\n",
    "\n",
    "    # Define the variables\n",
    "    height = 1\n",
    "    depth = 2\n",
    "    levels = width_ground_level - width_highest_level\n",
    "    volume = 0\n",
    "    \n",
    "    # Calculate the floor's volume\n",
    "    for i in range(levels + 1):\n",
    "        volume += (width_ground_level - i) * height * depth\n",
    "    \n",
    "    return volume"
   ]
  },
  {
   "cell_type": "markdown",
   "id": "ff3fd772",
   "metadata": {},
   "source": [
    "#### Call function to calculate plinth volume"
   ]
  },
  {
   "cell_type": "code",
   "execution_count": 27,
   "id": "10fe1db6",
   "metadata": {},
   "outputs": [
    {
     "name": "stdout",
     "output_type": "stream",
     "text": [
      "Width at highest level: 3\n",
      "Width at ground level: 8\n",
      "Volume of the plinth:  66\n"
     ]
    }
   ],
   "source": [
    "# Call the function to calculate the floor's volume\n",
    "volume = floor_volume(width_ground, width_highest)\n",
    "\n",
    "print(f\"Width at highest level: {width_highest}\")\n",
    "print(f\"Width at ground level: {width_ground}\")\n",
    "print(\"Volume of the plinth: \", volume)"
   ]
  },
  {
   "cell_type": "markdown",
   "id": "a06deae7",
   "metadata": {},
   "source": [
    "## Problem 2: Extracting and Processing EU Health Care Data"
   ]
  },
  {
   "cell_type": "markdown",
   "id": "70d04133",
   "metadata": {},
   "source": [
    "#### Import Necessary Libraries"
   ]
  },
  {
   "cell_type": "code",
   "execution_count": 28,
   "id": "261d1a96",
   "metadata": {},
   "outputs": [],
   "source": [
    "import tarfile\n",
    "import pandas as pd\n",
    "import os"
   ]
  },
  {
   "cell_type": "markdown",
   "id": "2527e890",
   "metadata": {},
   "source": [
    "#### Define Helper Functions"
   ]
  },
  {
   "cell_type": "code",
   "execution_count": 29,
   "id": "28282df3",
   "metadata": {},
   "outputs": [],
   "source": [
    "def extract_tar_gz(file_name, extract_to):\n",
    "    \"\"\"Extract the tar.gz file.\"\"\"\n",
    "    with tarfile.open(file_name, 'r:gz') as file:\n",
    "        file.extractall(path=extract_to)\n",
    "\n",
    "def merge_files_to_csv(directory, output_file):\n",
    "    \"\"\"Merge all files in directory to a single CSV file.\"\"\"\n",
    "    all_data = []\n",
    "\n",
    "    for file in os.listdir(directory):\n",
    "        country_name = os.path.splitext(file)[0]  # Removing the file extension to get the country's name\n",
    "        file_path = os.path.join(directory, file)\n",
    "        \n",
    "        data = pd.read_csv(file_path)\n",
    "        data['Country'] = country_name  # Add a new 'Country' column\n",
    "        all_data.append(data)\n",
    "\n",
    "    combined_data = pd.concat(all_data, ignore_index=True)\n",
    "    combined_data.to_csv(output_file, index=False)\n",
    "\n",
    "def services_per_country(csv_file):\n",
    "    \"\"\"Return the number of health care services listed per country.\"\"\"\n",
    "    df = pd.read_csv(csv_file)\n",
    "    count_df = df.groupby('Country').size().reset_index(name='Number of Services')\n",
    "    return count_df"
   ]
  },
  {
   "cell_type": "markdown",
   "id": "0d0841de",
   "metadata": {},
   "source": [
    "#### Extract Data"
   ]
  },
  {
   "cell_type": "code",
   "execution_count": 30,
   "id": "509d0103",
   "metadata": {},
   "outputs": [],
   "source": [
    "# Create a directory to extract the tar.gz data\n",
    "cwd = os.getcwd()\n",
    "\n",
    "# Only create the directory if it does not alrady exist\n",
    "if not os.path.exists(os.path.join(cwd, \"Extracted\")):\n",
    "    os.makedirs(\"Extracted\")\n",
    "\n",
    "# Attain the dynamic paths\n",
    "extract_path = os.path.join(cwd, \"Extracted\")\n",
    "tar_path = os.path.join(cwd, \"A1.tar.gz\")\n",
    "\n",
    "# Extract tar.gz\n",
    "extract_tar_gz(tar_path, extract_path)"
   ]
  },
  {
   "cell_type": "markdown",
   "id": "09627b9f",
   "metadata": {},
   "source": [
    "#### Merge Country Datasets and Present Output"
   ]
  },
  {
   "cell_type": "code",
   "execution_count": 31,
   "id": "82838621",
   "metadata": {},
   "outputs": [
    {
     "name": "stdout",
     "output_type": "stream",
     "text": [
      "        Country  Number of Services\n",
      "0       Austria                 266\n",
      "1       Belgium                 272\n",
      "2      Bulgaria                 673\n",
      "3       Croatia                  61\n",
      "4        Cyprus                  11\n",
      "5       Czechia                 248\n",
      "6       Denmark                  61\n",
      "7       Finland                 372\n",
      "8        France                5368\n",
      "9       Germany                2809\n",
      "10       Greece                 125\n",
      "11      Hungary                 135\n",
      "12      Ireland                 199\n",
      "13        Italy                1283\n",
      "14       Latvia                  44\n",
      "15    Lithuania                 142\n",
      "16   Luxembourg                  21\n",
      "17        Malta                   9\n",
      "18  Netherlands                 245\n",
      "19       Norway                 640\n",
      "20       Poland                 466\n",
      "21     Portugal                  94\n",
      "22      Romania                 179\n",
      "23     Slovakia                 128\n",
      "24     Slovenia                  31\n",
      "25        Spain                 809\n",
      "26       Sweden                 132\n",
      "27  Switzerland                 358\n"
     ]
    }
   ],
   "source": [
    "# Merge files inside 'data' directory to a single CSV\n",
    "data_dir = os.path.join(extract_path, 'data')\n",
    "output_csv = 'combined_data.csv'\n",
    "merge_files_to_csv(data_dir, output_csv)\n",
    "\n",
    "# Display number of services per country\n",
    "df = services_per_country(output_csv)\n",
    "print(df)"
   ]
  }
 ],
 "metadata": {
  "kernelspec": {
   "display_name": "Python 3 (ipykernel)",
   "language": "python",
   "name": "python3"
  },
  "language_info": {
   "codemirror_mode": {
    "name": "ipython",
    "version": 3
   },
   "file_extension": ".py",
   "mimetype": "text/x-python",
   "name": "python",
   "nbconvert_exporter": "python",
   "pygments_lexer": "ipython3",
   "version": "3.10.9"
  }
 },
 "nbformat": 4,
 "nbformat_minor": 5
}
