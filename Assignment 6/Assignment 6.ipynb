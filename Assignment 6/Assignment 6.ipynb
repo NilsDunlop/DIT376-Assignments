{
 "cells": [
  {
   "cell_type": "markdown",
   "metadata": {
    "id": "95311667"
   },
   "source": [
    "# Assignment 6\n",
    "## Group Members:\n",
    "* ### Nils Dunlop, e-mail: gusdunlni@student.gu.se\n",
    "* ### Francisco Alejandro Erazo Piza, e-mail: guserafr@student.gu.se"
   ],
   "id": "95311667"
  },
  {
   "cell_type": "markdown",
   "source": [
    "## Problem 1"
   ],
   "metadata": {
    "collapsed": false
   },
   "id": "6467e636"
  },
  {
   "cell_type": "code",
   "execution_count": 9,
   "outputs": [
    {
     "name": "stdout",
     "output_type": "stream",
     "text": [
      "Dijkstra:\n",
      "s\n",
      "t\n",
      "y\n",
      "z\n",
      "DAG:\n",
      "s\n",
      "x\n",
      "y\n",
      "z\n"
     ]
    }
   ],
   "source": [
    "import math\n",
    "from collections import deque\n",
    "\n",
    "class Graph:\n",
    "    def __init__(self, gdict={}):\n",
    "        self.gdict = gdict\n",
    "        self.distance = {}\n",
    "        self.colour = {}\n",
    "        self.predecessor = {}\n",
    "        self.finish = {}\n",
    "\n",
    "    def get_vertices(self):\n",
    "        return list(self.gdict.keys())\n",
    "\n",
    "    def get_edges(self):\n",
    "        edges = []\n",
    "        for vertex in self.gdict:\n",
    "            for next_vertex in self.gdict[vertex]:\n",
    "                if (vertex, next_vertex) not in edges:\n",
    "                    edges.append((vertex, next_vertex))\n",
    "        return edges\n",
    "\n",
    "    def print_path(self, s, v):\n",
    "        if v in self.gdict.keys():\n",
    "            if v == s:\n",
    "                print(s)\n",
    "            elif self.predecessor[v] == None:\n",
    "                print(\"There is no path from\", s, \"to\", v, \"exists.\")\n",
    "            else:\n",
    "                self.print_path(s, self.predecessor[v])\n",
    "                print(v)\n",
    "        else:\n",
    "            print(\"Node with key\", v, \"is not in the graph.\")\n",
    "\n",
    "    def initialise_single_source(self, s):\n",
    "        for v in self.get_vertices():\n",
    "            self.distance[v] = math.inf\n",
    "            self.predecessor[v] = None\n",
    "        self.distance[s] = 0\n",
    "\n",
    "    def get_weight(self, u, v):\n",
    "        return self.gdict[u][v]\n",
    "\n",
    "    def relax(self, u, v):\n",
    "        if self.distance[v] > self.distance[u] + self.get_weight(u, v):\n",
    "            self.distance[v] = self.distance[u] + self.get_weight(u, v)\n",
    "            self.predecessor[v] = u\n",
    "\n",
    "    def dijkstra(self, s):\n",
    "        self.initialise_single_source(s)\n",
    "\n",
    "        priority_queue = [(0, s)]\n",
    "\n",
    "        while priority_queue:\n",
    "            priority_queue.sort(reverse=True, key=lambda x: x[0])\n",
    "            current_cost, current_node = priority_queue.pop()\n",
    "\n",
    "            for neighbor in self.gdict[current_node]:\n",
    "                old_distance = self.distance[neighbor]\n",
    "                self.relax(current_node, neighbor)\n",
    "                if self.distance[neighbor] != old_distance:\n",
    "                    priority_queue.append((self.distance[neighbor], neighbor))\n",
    "                    \n",
    "    \n",
    "    def dag_shortest_path(self, s):\n",
    "        self.initialise_single_source(s)\n",
    "        sorted_nodes = self.topological_sort()\n",
    "\n",
    "        for node in sorted_nodes:\n",
    "            for neighbor in self.gdict[node]:\n",
    "                self.relax(node, neighbor)\n",
    "\n",
    "    def topological_sort(self):\n",
    "        sorted_nodes = deque()\n",
    "        visited = set()\n",
    "        \n",
    "        def dfs(node):\n",
    "            visited.add(node)\n",
    "            for neighbor in self.gdict[node]:\n",
    "                if neighbor not in visited:\n",
    "                    dfs(neighbor)\n",
    "            sorted_nodes.appendleft(node)\n",
    "\n",
    "        for node in self.gdict:\n",
    "            if node not in visited:\n",
    "                dfs(node)\n",
    "\n",
    "        return sorted_nodes\n",
    "\n",
    "    def shortest_path_dijkstra(self, s, v):\n",
    "        self.dijkstra(s)\n",
    "        print(\"Dijkstra:\")\n",
    "        self.print_path(s, v)\n",
    "    \n",
    "    def shortest_path_dag(self, s, v):\n",
    "        self.dag_shortest_path(s)\n",
    "        print(\"DAG:\")\n",
    "        self.print_path(s, v)\n",
    "\n",
    "if __name__ == \"__main__\":\n",
    "    adjacency = {\n",
    "        \"r\": {\"s\": 5, \"t\": 3},\n",
    "        \"s\": {\"x\": 6, \"t\": 2},\n",
    "        \"t\": {\"x\": 7, \"y\": 4, \"z\": 2},\n",
    "        \"x\": {\"y\": -1, \"z\": 1},\n",
    "        \"y\": {\"z\": -2},\n",
    "        \"z\": {}\n",
    "    }\n",
    "    \n",
    "    adjacency2 = {\n",
    "        \"s\": {\"t\": 5, \"y\": 10},\n",
    "        \"t\": {\"x\": 1, \"y\": 2},\n",
    "        \"x\": {\"z\": 4},\n",
    "        \"y\": {\"x\": 9,\"t\": 3, \"z\": 2},\n",
    "        \"z\": {\"s\": 7,\"x\": 6}\n",
    "    }\n",
    "\n",
    "    graph = Graph(adjacency2)\n",
    "    graph2 = Graph(adjacency)\n",
    "    graph.shortest_path_dijkstra(\"s\", \"z\")\n",
    "    graph2.shortest_path_dag(\"s\", \"z\")"
   ],
   "metadata": {
    "collapsed": false,
    "ExecuteTime": {
     "end_time": "2023-10-05T09:43:30.576983300Z",
     "start_time": "2023-10-05T09:43:30.496263400Z"
    }
   },
   "id": "1108110f9a8085c6"
  },
  {
   "cell_type": "markdown",
   "source": [
    "## Problem 2"
   ],
   "metadata": {
    "collapsed": false
   },
   "id": "d804292b003f09c9"
  },
  {
   "cell_type": "code",
   "execution_count": 10,
   "outputs": [
    {
     "name": "stdout",
     "output_type": "stream",
     "text": [
      "{'opaltorget': 1, 'smaragdgatan': 2, 'briljantgatan': 2, 'frölunda torg spårvagn': 1, 'positivgatan': 1, 'musikvägen': 1, 'nymilsgatan': 1, 'lantmilsgatan': 2, 'axel dahlströms torg': 1, 'marklandsgatan': 3, 'botaniska trädgården': 2, 'linnéplatsen': 1, 'olivedalsgatan': 2, 'prinsgatan': 2, 'järntorget': 2, 'stenpiren': 3, 'brunnsparken': 2, 'centralstationen': 3, 'ullevi norra': 2, 'svingeln': 1, 'olskrokstorget': 2, 'redbergsplatsen': 2, 'stockholmsgatan': 1, 'härlanda': 2, 'munkebäckstorget': 0, 'ättehögsgatan': 1, 'kaggeledstorget': 2, 'tingvallsvägen': 2, 'östra sjukhuset': 0}\n"
     ]
    }
   ],
   "source": [
    "import tarfile\n",
    "\n",
    "def extract_tar_to_dict(tar_file_path):\n",
    "    extracted_files = {}\n",
    "\n",
    "    try:\n",
    "        with tarfile.open(tar_file_path, 'r:gz') as tar:\n",
    "            for item in tar:\n",
    "                if item.name.startswith('Data/._'):\n",
    "                    continue\n",
    "                if item.isfile() and 'tram' in item.name and item.name.endswith('.txt'):\n",
    "                    file = tar.extractfile(item)\n",
    "                    if file:\n",
    "                        tram_dict = {}\n",
    "\n",
    "                        for line in file:\n",
    "                            tram_stop, time = line.decode('utf-8', errors='ignore').strip().lower().split(', ')\n",
    "\n",
    "                            tram_dict[tram_stop] = int(time)\n",
    "\n",
    "                        tram_number = item.name.replace('Data/', '').replace('.txt', '')\n",
    "                        extracted_files[tram_number] = tram_dict\n",
    "    except FileNotFoundError:\n",
    "        print(f\"{tar_file_path} not found.\")\n",
    "    except tarfile.ReadError:\n",
    "        print(f\"{tar_file_path} is not a tar file.\")\n",
    "\n",
    "    return extracted_files\n",
    "\n",
    "\n",
    "tar_file_path = 'Data_A6.tar.gz'\n",
    "extracted_dict = extract_tar_to_dict(tar_file_path)\n",
    "print(extracted_dict['tram1'])"
   ],
   "metadata": {
    "collapsed": false,
    "ExecuteTime": {
     "end_time": "2023-10-05T09:43:30.623860100Z",
     "start_time": "2023-10-05T09:43:30.561381100Z"
    }
   },
   "id": "446b2853deee2a41"
  },
  {
   "cell_type": "code",
   "execution_count": 11,
   "outputs": [
    {
     "name": "stdout",
     "output_type": "stream",
     "text": [
      "{'kungsportsplatsen', 'önskevädersgatan', 'nymånegatan', 'linnéplatsen', 'ostindiegatan', 'kviberg', 'marklandsgatan', 'lantmilsgatan', 'kungssten', 'stenpiren', 'hinsholmen', 'munkebäckstorget', 'chapmans torg', 'vasaplatsen', 'nya varvsallén', 'järntorget', 'jaegerdorffsplatsen', 'lackarebäck', 'storås', 'olivedalsgatan', 'solrosgatan', 'wavrinskys plats', 'ättehögsgatan', 'mölndals sjukhus', 'hagakyrkan', 'sahlgrenska huvudentré', 'långedrag', 'tranered', 'hjällbo', 'brunnsparken', 'lana', 'varbergsgatan', 'frihamnen', 'kapellplatsen', 'korsvägen', 'sandarna', 'galileis gata', 'tingvallsvägen', 'chalmers', 'elisedal', 'olskrokstorget', 'hjalmar brantingsplatsen', 'medicinaregatan', 'kortedala torg', 'sannaplan', 'musikvägen', 'ullevi södra', 'kaptensgatan', 'friskväderstorget', 'svingeln', 'krokslätts fabriker', 'bellevue', 'teleskopgatan', 'berzeliigatan', 'eketrägatan', 'godhemsgatan', 'axel dahlströms torg', 'rambergsvallen', 'runstavsgatan', 'stigbergstorget', 'hammarkullen', 'masthuggstorget', 'januarigatan', 'roddföreningen', 'allhelgonakyrkan', 'briljantgatan', 'almedal', 'vågmästareplatsen', 'mariaplan', 'gamlestads torg', 'vagnhallen majorna', 'härlanda', 'positivgatan', 'temperaturgatan', 'väderilsgatan', 'sälöfjordsgatan', 'botaniska trädgården', 'gropegårdsgatan', 'mildvädersgatan', 'frölunda torg spårvagn', 'beväringsgatan', 'käringberget', 'stockholmsgatan', 'domkyrkan', 'angered centrum', 'sanatoriegatan', 'liseberg södra', 'ejdergatan', 'scandinavium', 'kaggeledstorget', 'grönsakstorget', 'valand', 'wieselgrensplatsen', 'ullevi norra', 'smaragdgatan', 'centralstationen', 'hagen', 'redbergsplatsen', 'prinsgatan', 'vasa viktoriagatan', 'krokslätts torg', 'nymilsgatan', 'lilla bommen', 'vårväderstorget', 'virginsgatan', 'skf'}\n"
     ]
    }
   ],
   "source": [
    "def get_complete_tram_data(extracted_dict):\n",
    "    reverse_dict = {}\n",
    "\n",
    "    for tram, stops in extracted_dict.items():\n",
    "        reversed_stops = {}\n",
    "        prev_stop = None\n",
    "        prev_time = None\n",
    "\n",
    "        for stop, time in list(stops.items())[::-1]:\n",
    "            if prev_stop is not None:\n",
    "                reversed_stops[prev_stop] = prev_time\n",
    "\n",
    "            prev_stop = stop\n",
    "            prev_time = time\n",
    "\n",
    "        reversed_stops[prev_stop] = 0\n",
    "        reverse_tram = f\"{tram}_reverse\"\n",
    "        reverse_dict[reverse_tram] = reversed_stops\n",
    "\n",
    "    return {**extracted_dict, **reverse_dict}, reverse_dict\n",
    "\n",
    "\n",
    "def get_tram_hubs(complete_tram_data, extracted_dict):\n",
    "    all_tram_stops, tram_hubs = set(), set()\n",
    "    connections_count = {}\n",
    "\n",
    "    for inner_dict in complete_tram_data.values():\n",
    "        for key in inner_dict.keys():\n",
    "            all_tram_stops.add(key.lower())\n",
    "\n",
    "    for tram_stop in all_tram_stops:\n",
    "        connections_count[tram_stop] = 0\n",
    "\n",
    "    for tram_line in extracted_dict.values():  \n",
    "        stops = list(tram_line.keys())\n",
    "        for i in range(len(stops) - 1):\n",
    "            current_stop = stops[i]\n",
    "            next_stop = stops[i + 1]\n",
    "            connections_count[current_stop] += 1\n",
    "            connections_count[next_stop] += 1\n",
    "\n",
    "    for stop, count in connections_count.items():\n",
    "        if count >= 3:\n",
    "            tram_hubs.add(stop)\n",
    "\n",
    "    return tram_hubs\n",
    "\n",
    "\n",
    "# Using the functions:\n",
    "extracted_dict = extract_tar_to_dict('Data_A6.tar.gz')\n",
    "complete_tram_data, reverse_dict = get_complete_tram_data(extracted_dict)\n",
    "tram_hubs = get_tram_hubs(complete_tram_data, extracted_dict)\n",
    "\n",
    "print(tram_hubs)"
   ],
   "metadata": {
    "collapsed": false,
    "ExecuteTime": {
     "end_time": "2023-10-05T09:43:30.686371400Z",
     "start_time": "2023-10-05T09:43:30.592598500Z"
    }
   },
   "id": "cd2b3008df226ce5"
  },
  {
   "cell_type": "code",
   "execution_count": 12,
   "outputs": [
    {
     "name": "stdout",
     "output_type": "stream",
     "text": [
      "{'allhelgonakyrkan': {'kortedala torg': 1, 'aprilgatan': 0, 'januarigatan': 2}, 'almedal': {'liseberg södra': 2, 'elisedal': 2}, 'angered centrum': {'storås': 3}, 'aprilgatan': {'allhelgonakyrkan': 1}, 'axel dahlströms torg': {'lantmilsgatan': 2, 'marklandsgatan': 3}, 'bellevue': {'skf': 2, 'kviberg': 1}, 'berzeliigatan': {'korsvägen': 1, 'valand': 2}, 'beväringsgatan': {'kviberg': 1, 'nymånegatan': 1}, 'botaniska trädgården': {'marklandsgatan': 3, 'linnéplatsen': 1, 'sahlgrenska huvudentré': 1}, 'briljantgatan': {'smaragdgatan': 1, 'frölunda torg spårvagn': 1}, 'brunnsparken': {'stenpiren': 3, 'centralstationen': 6, 'kungsportsplatsen': 3, 'domkyrkan': 3, 'frihamnen': 5, 'lilla bommen': 1}, 'centralstationen': {'brunnsparken': 2, 'ullevi norra': 2, 'ullevi södra': 4, 'gamlestads torg': 6}, 'chalmers': {'wavrinskys plats': 1, 'korsvägen': 1, 'kapellplatsen': 2}, 'chapmans torg': {'jaegerdorffsplatsen': 1, 'kaptensgatan': 2}, 'doktor sydows gata': {'wavrinskys plats': 1}, 'domkyrkan': {'grönsakstorget': 1, 'brunnsparken': 2}, 'ejdergatan': {'redbergsplatsen': 1, 'gamlestads torg': 6}, 'eketrägatan': {'sälöfjordsgatan': 1, 'gropegårdsgatan': 1}, 'elisedal': {'almedal': 2, 'varbergsgatan': 1}, 'frihamnen': {'hjalmar brantingsplatsen': 1, 'brunnsparken': 4, 'lilla bommen': 1}, 'friskväderstorget': {'väderilsgatan': 1, 'önskevädersgatan': 2}, 'frölunda torg spårvagn': {'briljantgatan': 1, 'positivgatan': 1}, 'galileis gata': {'januarigatan': 2, 'teleskopgatan': 2}, 'gamlestads torg': {'ejdergatan': 3, 'skf': 2, 'centralstationen': 6, 'hjällbo': 3}, 'godhemsgatan': {'marklandsgatan': 1, 'mariaplan': 1, 'stigbergstorget': 7}, 'gropegårdsgatan': {'eketrägatan': 1, 'rambergsvallen': 1}, 'grönsakstorget': {'vasaplatsen': 1, 'domkyrkan': 3, 'hagakyrkan': 2}, 'hagakyrkan': {'järntorget': 3, 'vasa viktoriagatan': 3, 'grönsakstorget': 1}, 'hagen': {'tranered': 1, 'nya varvsallén': 1}, 'hammarkullen': {'hjällbo': 3, 'storås': 3}, 'hinsholmen': {'långedrag': 1, 'käringberget': 1}, 'hjalmar brantingsplatsen': {'vågmästareplatsen': 2, 'frihamnen': 5}, 'hjällbo': {'gamlestads torg': 6, 'hammarkullen': 1}, 'härlanda': {'stockholmsgatan': 1, 'munkebäckstorget': 0, 'solrosgatan': 1}, 'jaegerdorffsplatsen': {'vagnhallen majorna': 1, 'chapmans torg': 2}, 'januarigatan': {'allhelgonakyrkan': 1, 'galileis gata': 1}, 'järntorget': {'prinsgatan': 2, 'stenpiren': 3, 'masthuggstorget': 2, 'hagakyrkan': 2}, 'kaggeledstorget': {'ättehögsgatan': 1, 'tingvallsvägen': 1}, 'kapellplatsen': {'chalmers': 1, 'vasaplatsen': 2}, 'kaptensgatan': {'chapmans torg': 2, 'stigbergstorget': 2}, 'komettorget': {'teleskopgatan': 2}, 'korsvägen': {'scandinavium': 2, 'liseberg södra': 2, 'chalmers': 5, 'virginsgatan': 1, 'berzeliigatan': 2}, 'kortedala torg': {'runstavsgatan': 2, 'allhelgonakyrkan': 1}, 'krokslätts fabriker': {'krokslätts torg': 1, 'lackarebäck': 1}, 'krokslätts torg': {'lana': 1, 'krokslätts fabriker': 1}, 'kungsportsplatsen': {'valand': 1, 'brunnsparken': 1}, 'kungssten': {'nya varvsallén': 1, 'sandarna': 1}, 'kviberg': {'bellevue': 1, 'beväringsgatan': 1}, 'käringberget': {'hinsholmen': 2, 'tranered': 1}, 'lackarebäck': {'krokslätts fabriker': 1, 'mölndals sjukhus': 2}, 'lana': {'varbergsgatan': 1, 'krokslätts torg': 1}, 'lantmilsgatan': {'nymilsgatan': 1, 'axel dahlströms torg': 1}, 'lilla bommen': {'brunnsparken': 1, 'frihamnen': 1}, 'linnéplatsen': {'botaniska trädgården': 2, 'olivedalsgatan': 1, 'sahlgrenska huvudentré': 1}, 'liseberg södra': {'korsvägen': 1, 'almedal': 2}, 'långedrag': {'roddföreningen': 1, 'hinsholmen': 2}, 'mariaplan': {'godhemsgatan': 1, 'ostindiegatan': 1, 'sannaplan': 1, 'marklandsgatan': 3}, 'marklandsgatan': {'axel dahlströms torg': 1, 'botaniska trädgården': 3, 'godhemsgatan': 5, 'mariaplan': 5, 'medicinaregatan': 5}, 'masthuggstorget': {'stigbergstorget': 2, 'järntorget': 2}, 'medicinaregatan': {'sahlgrenska huvudentré': 1, 'wavrinskys plats': 1, 'marklandsgatan': 3}, 'mildvädersgatan': {'önskevädersgatan': 1, 'vårväderstorget': 1}, 'munkebäckstorget': {'härlanda': 2, 'ättehögsgatan': 1, 'solrosgatan': 1}, 'musikvägen': {'positivgatan': 1, 'nymilsgatan': 1}, 'mölndals innerstad': {'mölndals sjukhus': 2}, 'mölndals sjukhus': {'lackarebäck': 1, 'mölndals innerstad': 1}, 'nya varvsallén': {'hagen': 2, 'kungssten': 2}, 'nymilsgatan': {'musikvägen': 1, 'lantmilsgatan': 2}, 'nymånegatan': {'beväringsgatan': 1, 'runstavsgatan': 2}, 'olivedalsgatan': {'linnéplatsen': 3, 'prinsgatan': 2, 'vasa viktoriagatan': 5}, 'olskrokstorget': {'svingeln': 1, 'redbergsplatsen': 1}, 'ostindiegatan': {'mariaplan': 1, 'vagnhallen majorna': 1, 'sannaplan': 1}, 'positivgatan': {'frölunda torg spårvagn': 1, 'musikvägen': 1}, 'prinsgatan': {'olivedalsgatan': 1, 'järntorget': 2}, 'rambergsvallen': {'gropegårdsgatan': 1, 'wieselgrensplatsen': 1}, 'redbergsplatsen': {'olskrokstorget': 1, 'stockholmsgatan': 1, 'ejdergatan': 3}, 'roddföreningen': {'långedrag': 1}, 'runstavsgatan': {'nymånegatan': 1, 'kortedala torg': 1}, 'sahlgrenska huvudentré': {'linnéplatsen': 3, 'medicinaregatan': 1, 'botaniska trädgården': 3}, 'sanatoriegatan': {'solrosgatan': 1, 'virginsgatan': 1}, 'sandarna': {'kungssten': 2, 'sannaplan': 1}, 'sannaplan': {'sandarna': 1, 'mariaplan': 1, 'ostindiegatan': 1}, 'scandinavium': {'ullevi södra': 2, 'korsvägen': 2}, 'skf': {'gamlestads torg': 1, 'bellevue': 1}, 'smaragdgatan': {'briljantgatan': 1}, 'solrosgatan': {'härlanda': 2, 'sanatoriegatan': 2, 'munkebäckstorget': 1}, 'stenpiren': {'järntorget': 2, 'brunnsparken': 2}, 'stigbergstorget': {'kaptensgatan': 2, 'masthuggstorget': 2, 'godhemsgatan': 1}, 'stockholmsgatan': {'redbergsplatsen': 1, 'härlanda': 2}, 'storås': {'hammarkullen': 1, 'angered centrum': 0}, 'svingeln': {'ullevi norra': 2, 'olskrokstorget': 1}, 'sälöfjordsgatan': {'vårväderstorget': 1, 'eketrägatan': 1}, 'teleskopgatan': {'galileis gata': 1, 'komettorget': 1}, 'temperaturgatan': {'varmfrontsgatan': 0, 'väderilsgatan': 1}, 'tingvallsvägen': {'kaggeledstorget': 1, 'östra sjukhuset': 1}, 'tranered': {'käringberget': 1, 'hagen': 2}, 'ullevi norra': {'centralstationen': 3, 'svingeln': 2, 'ullevi södra': 2}, 'ullevi södra': {'centralstationen': 0, 'scandinavium': 2, 'ullevi norra': 2}, 'vagnhallen majorna': {'ostindiegatan': 1, 'jaegerdorffsplatsen': 1}, 'valand': {'vasaplatsen': 2, 'kungsportsplatsen': 3, 'berzeliigatan': 2}, 'varbergsgatan': {'elisedal': 2, 'lana': 1}, 'varmfrontsgatan': {'temperaturgatan': 2}, 'vasa viktoriagatan': {'hagakyrkan': 2, 'vasaplatsen': 1, 'olivedalsgatan': 2}, 'vasaplatsen': {'vasa viktoriagatan': 1, 'valand': 2, 'grönsakstorget': 1, 'kapellplatsen': 2}, 'virginsgatan': {'sanatoriegatan': 2, 'korsvägen': 9}, 'väderilsgatan': {'temperaturgatan': 2, 'friskväderstorget': 1}, 'vågmästareplatsen': {'wieselgrensplatsen': 1, 'hjalmar brantingsplatsen': 1}, 'vårväderstorget': {'mildvädersgatan': 1, 'sälöfjordsgatan': 2}, 'wavrinskys plats': {'medicinaregatan': 1, 'chalmers': 5, 'doktor sydows gata': 2}, 'wieselgrensplatsen': {'rambergsvallen': 1, 'vågmästareplatsen': 2}, 'ättehögsgatan': {'munkebäckstorget': 1, 'kaggeledstorget': 1}, 'önskevädersgatan': {'friskväderstorget': 1, 'mildvädersgatan': 1}, 'östra sjukhuset': {'tingvallsvägen': 1}}\n"
     ]
    }
   ],
   "source": [
    "def get_terminal_stops(extracted_dict):\n",
    "    terminal_stops = []\n",
    "    for line, stops in extracted_dict.items():\n",
    "        last_key = list(stops.keys())[-1]\n",
    "        terminal_stops.append(last_key.lower())\n",
    "    return terminal_stops\n",
    "\n",
    "terminal_stops = get_terminal_stops(extracted_dict)\n",
    "all_special_stops = sorted(list(tram_hubs.union({stop.lower() for stop in terminal_stops})))\n",
    "\n",
    "def create_tram_network(extracted_dict, all_special_stops, terminal_stops):\n",
    "    tram_network = {stop: {} for stop in all_special_stops}\n",
    "\n",
    "    for tram, stops in extracted_dict.items():\n",
    "        stops_list = list(stops.items())\n",
    "\n",
    "        idx = 0\n",
    "        while idx < len(stops_list) - 1:\n",
    "            # If this stop is a special stop\n",
    "            if stops_list[idx][0] in all_special_stops:\n",
    "                next_idx = idx + 1\n",
    "                total_time = 0\n",
    "\n",
    "                # Accumulate the time until the next special stop is reached\n",
    "                while next_idx < len(stops_list) and stops_list[next_idx][0] not in all_special_stops:\n",
    "                    total_time += stops_list[next_idx][1]\n",
    "                    next_idx += 1\n",
    "\n",
    "                # If the next stop is also a special stop, add to the network\n",
    "                if stops_list[next_idx][0] in all_special_stops:\n",
    "                    # Add the time of the next special stop to the total time\n",
    "                    total_time += stops_list[next_idx][1]\n",
    "                    tram_network[stops_list[idx][0]][stops_list[next_idx][0]] = total_time\n",
    "\n",
    "                    # Compare the forward and reverse direction times\n",
    "                    forward_time = tram_network.get(stops_list[idx][0], {}).get(stops_list[next_idx][0], float('inf'))\n",
    "                    reverse_time = tram_network.get(stops_list[next_idx][0], {}).get(stops_list[idx][0], float('inf'))\n",
    "\n",
    "                    if forward_time != reverse_time:\n",
    "                        tram_network[stops_list[next_idx][0]][stops_list[idx][0]] = stops_list[idx][1]\n",
    "                    elif stops_list[next_idx][0] in terminal_stops:\n",
    "                        tram_network[stops_list[next_idx][0]][stops_list[idx][0]] = stops_list[idx][1]\n",
    "                    else:\n",
    "                        tram_network[stops_list[next_idx][0]][stops_list[idx][0]] = total_time\n",
    "\n",
    "                # Update the current index\n",
    "                idx = next_idx\n",
    "            else:\n",
    "                idx += 1\n",
    "\n",
    "    return tram_network\n",
    "\n",
    "tram_network = create_tram_network(extracted_dict, all_special_stops, terminal_stops)\n",
    "print(tram_network)"
   ],
   "metadata": {
    "collapsed": false,
    "ExecuteTime": {
     "end_time": "2023-10-05T09:43:30.686371400Z",
     "start_time": "2023-10-05T09:43:30.639461400Z"
    }
   },
   "id": "ff9daf89b8bf24cd"
  },
  {
   "cell_type": "markdown",
   "source": [
    "### Observations\n",
    "- There are several similar connections within the graph such as the one between 'gamlestads torg' and 'ejdergatan' that have stops in several trams, however in one of the trams the connection is faster than in the other. In this case we handled this by taking the shortest time between the two stops.\n",
    "- The tram stops have different alphabetical structuring so when ensuring only unique stops we needed to take everything to be lowercase.\n",
    "- When considering connections A->B and B->A we found that the time was not always the same. In these cases we took the reverse order to be equal to the B->A time."
   ],
   "metadata": {
    "collapsed": false
   },
   "id": "cb0a85e65ec6fa57"
  },
  {
   "cell_type": "code",
   "execution_count": 12,
   "outputs": [],
   "source": [],
   "metadata": {
    "collapsed": false,
    "ExecuteTime": {
     "end_time": "2023-10-05T09:43:30.686371400Z",
     "start_time": "2023-10-05T09:43:30.639461400Z"
    }
   },
   "id": "2fc0b90766adcfb0"
  }
 ],
 "metadata": {
  "colab": {
   "provenance": []
  },
  "kernelspec": {
   "display_name": "Python 3 (ipykernel)",
   "language": "python",
   "name": "python3"
  },
  "language_info": {
   "codemirror_mode": {
    "name": "ipython",
    "version": 3
   },
   "file_extension": ".py",
   "mimetype": "text/x-python",
   "name": "python",
   "nbconvert_exporter": "python",
   "pygments_lexer": "ipython3",
   "version": "3.10.9"
  }
 },
 "nbformat": 4,
 "nbformat_minor": 5
}
