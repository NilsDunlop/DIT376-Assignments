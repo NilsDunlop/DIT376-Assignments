{
 "cells": [
  {
   "cell_type": "markdown",
   "metadata": {
    "id": "95311667"
   },
   "source": [
    "# Assignment 6\n",
    "## Group Members:\n",
    "* ### Nils Dunlop, e-mail: gusdunlni@student.gu.se\n",
    "* ### Francisco Alejandro Erazo Piza, e-mail: guserafr@student.gu.se"
   ],
   "id": "95311667"
  },
  {
   "cell_type": "markdown",
   "source": [
    "## Problem 1"
   ],
   "metadata": {
    "collapsed": false
   },
   "id": "6467e636"
  },
  {
   "cell_type": "code",
   "execution_count": 73,
   "outputs": [
    {
     "name": "stdout",
     "output_type": "stream",
     "text": [
      "Shortest Distance to All nodes: 10\n",
      "Shortest Path from A: ['A', 'C', 'E', 'F']\n",
      "Shortest Distance to All nodes: 4\n",
      "Shortest Path from A: ['A', 'B', 'D']\n"
     ]
    }
   ],
   "source": [
    "import sys\n",
    "from collections import deque\n",
    "\n",
    "def dijkstra(graph, src):\n",
    "    inf = sys.maxsize\n",
    "    node_data = {node: {'cost': inf, 'pred': []} for node in graph}\n",
    "    node_data[src]['cost'] = 0\n",
    "\n",
    "    priority_queue = [(0, src)]\n",
    "\n",
    "    while priority_queue:\n",
    "        priority_queue.sort(reverse=True, key=lambda x: x[0])\n",
    "\n",
    "        current_cost, current_node = priority_queue.pop()\n",
    "\n",
    "        for neighbor, time in graph[current_node].items():\n",
    "            cost = node_data[current_node]['cost'] + time\n",
    "            if cost < node_data[neighbor]['cost']:\n",
    "                node_data[neighbor]['cost'] = cost\n",
    "                node_data[neighbor]['pred'] = node_data[current_node]['pred'] + [current_node]\n",
    "                priority_queue.append((cost, neighbor))\n",
    "\n",
    "    # for node, data in node_data.items():\n",
    "    #     print(f\"Node: {node}\")\n",
    "    #     print(f\"Shortest Distance from {src}: {data['cost']}\")\n",
    "    #     print(f\"Shortest Path from {src}: {data['pred']} -> {node}\\n\")\n",
    "\n",
    "    farthest_node = max(node_data, key=lambda node: node_data[node]['cost'])\n",
    "    print(f\"Shortest Distance to All nodes: {node_data[farthest_node]['cost']}\")\n",
    "    print(f\"Shortest Path from {src}: {node_data[farthest_node]['pred'] + [farthest_node]}\")\n",
    "\n",
    "\n",
    "def dag_shortest_path(graph, src):\n",
    "    inf = sys.maxsize\n",
    "    node_data = {node: {'cost': inf, 'pred': []} for node in graph}\n",
    "    node_data[src]['cost'] = 0\n",
    "\n",
    "    def topological_sort(graph):\n",
    "        sorted_nodes = deque()\n",
    "        visited = set()\n",
    "\n",
    "        def dfs(node):\n",
    "            visited.add(node)\n",
    "            for neighbor in graph[node]:\n",
    "                if neighbor is not visited:\n",
    "                    dfs(neighbor)\n",
    "            sorted_nodes.appendleft(node)\n",
    "\n",
    "        for node in graph:\n",
    "            if node not in visited:\n",
    "                dfs(node)\n",
    "\n",
    "        return sorted_nodes\n",
    "\n",
    "    sorted_nodes = topological_sort(graph)\n",
    "\n",
    "    for node in sorted_nodes:\n",
    "        for neighbor, time in graph[node].items():\n",
    "            cost = node_data[node]['cost'] + time\n",
    "            if cost < node_data[neighbor]['cost']:\n",
    "                node_data[neighbor]['cost'] = cost\n",
    "                node_data[neighbor]['pred'] = node_data[node]['pred'] + [node]\n",
    "\n",
    "    # for node, data in node_data.items():\n",
    "    #     print(f\"Node: {node}\")\n",
    "    #     print(f\"Shortest Distance from {src}: {data['cost']}\")\n",
    "    #     print(f\"Shortest Path from {src}: {data['pred']} -> {node}\\n\")\n",
    "\n",
    "    farthest_node = max(node_data, key=lambda node: node_data[node]['cost'])\n",
    "    print(f\"Shortest Distance to All nodes: {node_data[farthest_node]['cost']}\")\n",
    "    print(f\"Shortest Path from {src}: {node_data[farthest_node]['pred'] + [farthest_node]}\")\n",
    "\n",
    "\n",
    "if __name__ == \"__main__\":\n",
    "    dijkstra_graph = {\n",
    "        'A':{'B':2,'C':4},\n",
    "        'B':{'A':2,'C':3, 'D':8},\n",
    "        'C':{'A':4,'B':3, 'E':5, 'D':2},\n",
    "        'D':{'B':8,'C':2, 'E':11, 'F':22},\n",
    "        'E':{'C':5,'D':11, 'F':1},\n",
    "        'F':{'D':22,'E':1}\n",
    "    }\n",
    "\n",
    "    dag_graph = {\n",
    "        'A': {'B': 3, 'C': 2},\n",
    "        'B': {'C': 7, 'D': 1},\n",
    "        'C': {'D': 5},\n",
    "        'D': {},\n",
    "    }\n",
    "\n",
    "    source = 'A'\n",
    "    dijkstra(dijkstra_graph, source)\n",
    "    dag_shortest_path(dag_graph, source)"
   ],
   "metadata": {
    "collapsed": false,
    "ExecuteTime": {
     "end_time": "2023-10-03T23:34:24.218344400Z",
     "start_time": "2023-10-03T23:34:24.171448300Z"
    }
   },
   "id": "1108110f9a8085c6"
  },
  {
   "cell_type": "markdown",
   "source": [
    "## Problem 2"
   ],
   "metadata": {
    "collapsed": false
   },
   "id": "d804292b003f09c9"
  },
  {
   "cell_type": "code",
   "execution_count": 74,
   "outputs": [
    {
     "name": "stdout",
     "output_type": "stream",
     "text": [
      "{'tram1': {'opaltorget': 1, 'smaragdgatan': 2, 'briljantgatan': 2, 'frölunda torg spårvagn': 1, 'positivgatan': 1, 'musikvägen': 1, 'nymilsgatan': 1, 'lantmilsgatan': 2, 'axel dahlströms torg': 1, 'marklandsgatan': 3, 'botaniska trädgården': 2, 'linnéplatsen': 1, 'olivedalsgatan': 2, 'prinsgatan': 2, 'järntorget': 2, 'stenpiren': 3, 'brunnsparken': 2, 'centralstationen': 3, 'ullevi norra': 2, 'svingeln': 1, 'olskrokstorget': 2, 'redbergsplatsen': 2, 'stockholmsgatan': 1, 'härlanda': 2, 'munkebäckstorget': 0, 'ättehögsgatan': 1, 'kaggeledstorget': 2, 'tingvallsvägen': 2, 'östra sjukhuset': 0}, 'tram3': {'marklandsgatan': 1, 'bokekullsgatan': 1, 'högsbogatan': 1, 'klintens väg': 1, 'godhemsgatan': 2, 'mariaplan': 1, 'ostindiegatan': 1, 'vagnhallen majorna': 1, 'jaegerdorffsplatsen': 1, 'chapmans torg': 2, 'kaptensgatan': 2, 'stigbergstorget': 2, 'masthuggstorget': 2, 'järntorget': 3, 'hagakyrkan': 2, 'vasa viktoriagatan': 3, 'vasaplatsen': 1, 'valand': 2, 'kungsportsplatsen': 2, 'brunnsparken': 2, 'centralstationen': 3, 'ullevi norra': 2, 'svingeln': 2, 'olskrokstorget': 1, 'redbergsplatsen': 1, 'stockholmsgatan': 1, 'härlanda': 2, 'solrosgatan': 1, 'sanatoriegatan': 1, 'virginsgatan': 0}, 'tram2': {'axel dahlströms torg': 1, 'marklandsgatan': 3, 'botaniska trädgården': 2, 'linnéplatsen': 1, 'olivedalsgatan': 2, 'seminariegatan': 1, 'brunnsgatan': 1, 'handelshögskolan': 2, 'vasa viktoriagatan': 1, 'vasaplatsen': 1, 'grönsakstorget': 1, 'domkyrkan': 3, 'brunnsparken': 2, 'centralstationen': 3, 'ullevi södra': 2, 'scandinavium': 1, 'korsvägen': 2, 'liseberg södra': 2, 'almedal': 1, 'elisedal': 1, 'varbergsgatan': 1, 'lana': 1, 'krokslätts torg': 1, 'krokslätts fabriker': 2, 'lackarebäck': 1, 'mölndals sjukhus': 2, 'mölndals innerstad': 0}, 'tram6': {'varmfrontsgatan': 1, 'temperaturgatan': 1, 'väderilsgatan': 1, 'friskväderstorget': 1, 'önskevädersgatan': 1, 'mildvädersgatan': 1, 'vårväderstorget': 2, 'sälöfjordsgatan': 1, 'eketrägatan': 1, 'gropegårdsgatan': 1, 'rambergsvallen': 1, 'wieselgrensplatsen': 2, 'vågmästareplatsen': 1, 'hjalmar brantingsplatsen': 1, 'frihamnen': 5, 'nordstan': 2, 'brunnsparken': 2, 'domkyrkan': 1, 'grönsakstorget': 2, 'hagakyrkan': 3, 'järntorget': 1, 'prinsgatan': 2, 'olivedalsgatan': 1, 'linnéplatsen': 3, 'sahlgrenska huvudentré': 1, 'medicinaregatan': 1, 'wavrinskys plats': 1, 'chalmers': 5, 'korsvägen': 1, 'scandinavium': 2, 'ullevi södra': 2, 'ullevi norra': 2, 'svingeln': 2, 'olskrokstorget': 1, 'redbergsplatsen': 2, 'ejdergatan': 2, 'gamlestads torg': 1, 'skf': 2, 'bellevue': 2, 'kviberg': 1, 'beväringsgatan': 1, 'nymånegatan': 1, 'runstavsgatan': 2, 'kortedala torg': 1, 'allhelgonakyrkan': 1, 'aprilgatan': 0}, 'tram7': {'opaltorget': 1, 'smaragdgatan': 1, 'briljantgatan': 1, 'frölunda torg spårvagn': 1, 'positivgatan': 1, 'musikvägen': 1, 'nymilsgatan': 1, 'lantmilsgatan': 2, 'axel dahlströms torg': 1, 'marklandsgatan': 3, 'botaniska trädgården': 3, 'sahlgrenska huvudentré': 1, 'medicinaregatan': 1, 'wavrinskys plats': 1, 'chalmers': 2, 'kapellplatsen': 3, 'vasaplatsen': 1, 'valand': 2, 'kungsportsplatsen': 2, 'brunnsparken': 2, 'centralstationen': 6, 'gamlestads torg': 1, 'skf': 2, 'bellevue': 1, 'kviberg': 1, 'beväringsgatan': 1, 'nymånegatan': 1, 'runstavsgatan': 2, 'kortedala torg': 1, 'allhelgonakyrkan': 1, 'januarigatan': 2, 'galileis gata': 1, 'teleskopgatan': 2, 'rymdtorget': 1, 'komettorget': 0}, 'tram5': {'östra sjukhuset': 1, 'tingvallsvägen': 1, 'kaggeledstorget': 1, 'ättehögsgatan': 1, 'munkebäckstorget': 1, 'solrosgatan': 1, 'sanatoriegatan': 2, 'virginsgatan': 1, 'welandergatan': 1, 'töpelsgatan': 1, 'bögatan': 1, 'ekmanska': 1, 'bäckeliden': 1, 'sankt sigfrids plan': 1, 'liseberg station': 2, 'korsvägen': 1, 'berzeliigatan': 2, 'valand': 2, 'kungsportsplatsen': 2, 'brunnsparken': 0, 'lilla bommen': 4, 'frihamnen': 1, 'hjalmar brantingsplatsen': 0, 'vågmästareplatsen': 2, 'wieselgrensplatsen': 1, 'rambergsvallen': 1, 'gropegårdsgatan': 2, 'eketrägatan': 1, 'sälöfjordsgatan': 1, 'vårväderstorget': 1, 'mildvädersgatan': 1, 'önskevädersgatan': 1, 'friskväderstorget': 1, 'väderilsgatan': 1, 'temperaturgatan': 2, 'varmfrontsgatan': 0}, 'tram4': {'mölndals innerstad': 1, 'mölndals sjukhus': 2, 'lackarebäck': 1, 'krokslätts fabriker': 1, 'krokslätts torg': 1, 'lana': 1, 'varbergsgatan': 1, 'elisedal': 2, 'almedal': 2, 'liseberg södra': 2, 'korsvägen': 1, 'berzeliigatan': 2, 'valand': 2, 'kungsportsplatsen': 2, 'brunnsparken': 2, 'centralstationen': 6, 'gamlestads torg': 6, 'hjällbo': 3, 'hammarkullen': 1, 'storås': 3, 'angered centrum': 0}, 'tram13': {'saltholmen': 1, 'roddföreningen': 1, 'långedrag': 1, 'hinsholmen': 2, 'käringberget': 1, 'tranered': 1, 'hagen': 2, 'nya varvsallén': 1, 'kungssten': 2, 'sandarna': 1, 'sannaplan': 1, 'mariaplan': 5, 'marklandsgatan': 3, 'botaniska trädgård': 3, 'sahlgrenska huvud': 1, 'medicinaregatan': 1, 'wavrinskys plats': 2, 'chalmers': 5, 'korsvägen': 1, 'scandinavium': 2, 'ullevi södra': 4, 'centralstationen': 0}, 'tram10': {'väderilsgatan': 1, 'friskväderstorget': 1, 'önskevädersgatan': 2, 'mildvädersgatan': 1, 'vårväderstorget': 1, 'sälöfjordsgatan': 2, 'eketrägatan': 1, 'gropegårdsgatan': 1, 'rambergsvallen': 1, 'wieselgrensplatsen': 1, 'vågmästareplatsen': 2, 'hjalmar brantingsplatsen': 1, 'frihamnen': 5, 'lilla bommen': 1, 'brunnsparken': 1, 'kungsportsplatsen': 3, 'valand': 1, 'vasaplatsen': 2, 'kapellplatsen': 2, 'chalmers': 1, 'wavrinskys plats': 1, 'doktor fries torg': 2, 'doktor sydows gata': 0}, 'tram11': {'saltholmen': 1, 'roddföreningen': 1, 'långedrag': 1, 'hinsholmen': 2, 'käringberget': 1, 'tranered': 1, 'hagen': 2, 'nya varvsallén': 1, 'kungssten': 2, 'sandarna': 1, 'sannaplan': 1, 'mariaplan': 1, 'godhemsgatan': 1, 'ekedal': 2, 'majvallen': 1, 'fjällgatan': 2, 'stigbergstorget': 2, 'masthuggstorget': 2, 'järntorget': 3, 'hagakyrkan': 2, 'grönsakstorget': 1, 'domkyrkan': 3, 'brunnsparken': 2, 'centralstationen': 6, 'gamlestads torg': 1, 'skf': 2, 'bellevue': 1, 'kviberg': 1, 'beväringsgatan': 1, 'nymånegatan': 1, 'runstavsgatan': 2, 'kortedala torg': 1, 'allhelgonakyrkan': 1, 'januarigatan': 2, 'galileis gata': 1, 'teleskopgatan': 2, 'rymdtorget spårvagn': 1, 'komettorget': 0}, 'tram9': {'kungssten': 2, 'sandarna': 1, 'sannaplan': 1, 'ostindiegatan': 1, 'vagnhallen majorna': 1, 'jaegerdorffsplatsen': 1, 'chapmans torg': 2, 'kaptensgatan': 2, 'stigbergstorget': 2, 'masthuggstorget': 2, 'järntorget': 2, 'stenpiren': 3, 'brunnsparken': 2, 'centralstationen': 6, 'gamlestads torg': 6, 'hjällbo': 3, 'hammarkullen': 1, 'storås': 3, 'angered centrum': 0}, 'tram8': {'frölunda torg spårvagn': 1, 'positivgatan': 1, 'musikvägen': 1, 'nymilsgatan': 1, 'lantmilsgatan': 2, 'axel dahlströms torg': 1, 'marklandsgatan': 3, 'botaniska trädgården': 3, 'sahlgrenska huvudentré': 1, 'medicinaregatan': 1, 'wavrinskys plats': 1, 'chalmers': 5, 'korsvägen': 1, 'scandinavium': 2, 'ullevi södra': 2, 'ullevi norra': 2, 'svingeln': 2, 'olskrokstorget': 1, 'redbergsplatsen': 1, 'ejdergatan': 3, 'gamlestads torg': 6, 'hjällbo': 3, 'hammarkullen': 1, 'storås': 3, 'angered centrum': 0}}\n"
     ]
    }
   ],
   "source": [
    "import tarfile\n",
    "\n",
    "def extract_tar_to_dict(tar_file_path):\n",
    "    extracted_files = {}\n",
    "\n",
    "    try:\n",
    "        with tarfile.open(tar_file_path, 'r:gz') as tar:\n",
    "            for item in tar:\n",
    "                if item.name.startswith('Data/._'):\n",
    "                    continue\n",
    "                if item.isfile() and 'tram' in item.name and item.name.endswith('.txt'):\n",
    "                    file = tar.extractfile(item)\n",
    "                    if file:\n",
    "                        tram_dict = {}\n",
    "\n",
    "                        for line in file:\n",
    "                            tram_stop, time = line.decode('utf-8', errors='ignore').strip().lower().split(', ')\n",
    "\n",
    "                            tram_dict[tram_stop] = int(time)\n",
    "\n",
    "                        tram_number = item.name.replace('Data/', '').replace('.txt', '')\n",
    "                        extracted_files[tram_number] = tram_dict\n",
    "    except FileNotFoundError:\n",
    "        print(f\"{tar_file_path} not found.\")\n",
    "    except tarfile.ReadError:\n",
    "        print(f\"{tar_file_path} is not a tar file.\")\n",
    "\n",
    "    return extracted_files\n",
    "\n",
    "\n",
    "tar_file_path = 'Data_A6.tar.gz'\n",
    "extracted_dict = extract_tar_to_dict(tar_file_path)\n",
    "print(extracted_dict)"
   ],
   "metadata": {
    "collapsed": false,
    "ExecuteTime": {
     "end_time": "2023-10-03T23:34:24.218344400Z",
     "start_time": "2023-10-03T23:34:24.187119Z"
    }
   },
   "id": "446b2853deee2a41"
  },
  {
   "cell_type": "code",
   "execution_count": 75,
   "outputs": [
    {
     "name": "stdout",
     "output_type": "stream",
     "text": [
      "{'musikvägen', 'masthuggstorget', 'medicinaregatan', 'marklandsgatan', 'olivedalsgatan', 'kungssten', 'prinsgatan', 'positivgatan', 'roddföreningen', 'axel dahlströms torg', 'kungsportsplatsen', 'frölunda torg spårvagn', 'lilla bommen', 'kortedala torg', 'tranered', 'teleskopgatan', 'munkebäckstorget', 'sanatoriegatan', 'gamlestads torg', 'temperaturgatan', 'sannaplan', 'svingeln', 'sälöfjordsgatan', 'långedrag', 'scandinavium', 'lana', 'hjällbo', 'käringberget', 'vagnhallen majorna', 'grönsakstorget', 'lackarebäck', 'önskevädersgatan', 'varbergsgatan', 'smaragdgatan', 'godhemsgatan', 'vasaplatsen', 'elisedal', 'gropegårdsgatan', 'friskväderstorget', 'valand', 'berzeliigatan', 'tingvallsvägen', 'vågmästareplatsen', 'januarigatan', 'bellevue', 'mariaplan', 'centralstationen', 'stigbergstorget', 'beväringsgatan', 'stenpiren', 'kaptensgatan', 'vårväderstorget', 'hagakyrkan', 'eketrägatan', 'kapellplatsen', 'wieselgrensplatsen', 'solrosgatan', 'galileis gata', 'mölndals sjukhus', 'allhelgonakyrkan', 'almedal', 'rambergsvallen', 'ejdergatan', 'wavrinskys plats', 'chalmers', 'brunnsparken', 'krokslätts fabriker', 'kviberg', 'domkyrkan', 'redbergsplatsen', 'nymånegatan', 'kaggeledstorget', 'mildvädersgatan', 'sahlgrenska huvudentré', 'stockholmsgatan', 'hagen', 'jaegerdorffsplatsen', 'hinsholmen', 'sandarna', 'linnéplatsen', 'botaniska trädgården', 'ostindiegatan', 'järntorget', 'olskrokstorget', 'skf', 'väderilsgatan', 'hammarkullen', 'liseberg södra', 'krokslätts torg', 'chapmans torg', 'hjalmar brantingsplatsen', 'nya varvsallén', 'korsvägen', 'angered centrum', 'härlanda', 'storås', 'ättehögsgatan', 'virginsgatan', 'nymilsgatan', 'runstavsgatan', 'lantmilsgatan', 'ullevi södra', 'ullevi norra', 'frihamnen', 'briljantgatan', 'vasa viktoriagatan'}\n"
     ]
    }
   ],
   "source": [
    "def get_complete_tram_data(extracted_dict):\n",
    "    reverse_dict = {}\n",
    "\n",
    "    for tram, stops in extracted_dict.items():\n",
    "        reversed_stops = {}\n",
    "        prev_stop = None\n",
    "        prev_time = None\n",
    "\n",
    "        for stop, time in list(stops.items())[::-1]:\n",
    "            if prev_stop is not None:\n",
    "                reversed_stops[prev_stop] = prev_time\n",
    "\n",
    "            prev_stop = stop\n",
    "            prev_time = time\n",
    "\n",
    "        reversed_stops[prev_stop] = 0\n",
    "        reverse_tram = f\"{tram}_reverse\"\n",
    "        reverse_dict[reverse_tram] = reversed_stops\n",
    "\n",
    "    return {**extracted_dict, **reverse_dict}, reverse_dict\n",
    "\n",
    "\n",
    "def get_tram_hubs(complete_tram_data, extracted_dict):\n",
    "    all_tram_stops, tram_hubs = set(), set()\n",
    "    connections_count = {}\n",
    "\n",
    "    for inner_dict in complete_tram_data.values():\n",
    "        for key in inner_dict.keys():\n",
    "            all_tram_stops.add(key.lower())\n",
    "\n",
    "    for tram_stop in all_tram_stops:\n",
    "        connections_count[tram_stop] = 0\n",
    "\n",
    "    for tram_line in extracted_dict.values():  \n",
    "        stops = list(tram_line.keys())\n",
    "        for i in range(len(stops) - 1):\n",
    "            current_stop = stops[i]\n",
    "            next_stop = stops[i + 1]\n",
    "            connections_count[current_stop] += 1\n",
    "            connections_count[next_stop] += 1\n",
    "\n",
    "    for stop, count in connections_count.items():\n",
    "        if count >= 3:\n",
    "            tram_hubs.add(stop)\n",
    "\n",
    "    return tram_hubs\n",
    "\n",
    "\n",
    "# Using the functions:\n",
    "extracted_dict = extract_tar_to_dict('Data_A6.tar.gz')\n",
    "complete_tram_data, reverse_dict = get_complete_tram_data(extracted_dict)\n",
    "tram_hubs = get_tram_hubs(complete_tram_data, extracted_dict)\n",
    "\n",
    "print(tram_hubs)"
   ],
   "metadata": {
    "collapsed": false,
    "ExecuteTime": {
     "end_time": "2023-10-03T23:34:24.250030600Z",
     "start_time": "2023-10-03T23:34:24.202721600Z"
    }
   },
   "id": "cd2b3008df226ce5"
  },
  {
   "cell_type": "code",
   "execution_count": 80,
   "outputs": [
    {
     "name": "stdout",
     "output_type": "stream",
     "text": [
      "{'allhelgonakyrkan': {'kortedala torg': 1, 'aprilgatan': 0, 'januarigatan': 2}, 'almedal': {'liseberg södra': 2, 'elisedal': 2}, 'angered centrum': {'storås': 3}, 'aprilgatan': {'allhelgonakyrkan': 1}, 'axel dahlströms torg': {'lantmilsgatan': 1, 'marklandsgatan': 3}, 'bellevue': {'skf': 1, 'kviberg': 1}, 'berzeliigatan': {'korsvägen': 2, 'valand': 2}, 'beväringsgatan': {'kviberg': 1, 'nymånegatan': 1}, 'botaniska trädgården': {'marklandsgatan': 3, 'linnéplatsen': 1, 'sahlgrenska huvudentré': 1}, 'briljantgatan': {'smaragdgatan': 1, 'frölunda torg spårvagn': 1}, 'brunnsparken': {'stenpiren': 2, 'centralstationen': 6, 'kungsportsplatsen': 3, 'domkyrkan': 2, 'frihamnen': 4, 'lilla bommen': 1}, 'centralstationen': {'brunnsparken': 2, 'ullevi norra': 2, 'ullevi södra': 4, 'gamlestads torg': 6}, 'chalmers': {'wavrinskys plats': 5, 'korsvägen': 1, 'kapellplatsen': 1}, 'chapmans torg': {'jaegerdorffsplatsen': 2, 'kaptensgatan': 2}, 'doktor sydows gata': {'wavrinskys plats': 1}, 'domkyrkan': {'grönsakstorget': 3, 'brunnsparken': 2}, 'ejdergatan': {'redbergsplatsen': 3, 'gamlestads torg': 6}, 'eketrägatan': {'sälöfjordsgatan': 1, 'gropegårdsgatan': 1}, 'elisedal': {'almedal': 2, 'varbergsgatan': 2}, 'frihamnen': {'hjalmar brantingsplatsen': 5, 'brunnsparken': 4, 'lilla bommen': 1}, 'friskväderstorget': {'väderilsgatan': 1, 'önskevädersgatan': 2}, 'frölunda torg spårvagn': {'briljantgatan': 1, 'positivgatan': 1}, 'galileis gata': {'januarigatan': 1, 'teleskopgatan': 2}, 'gamlestads torg': {'ejdergatan': 6, 'skf': 2, 'centralstationen': 6, 'hjällbo': 3}, 'godhemsgatan': {'marklandsgatan': 5, 'mariaplan': 1, 'stigbergstorget': 7}, 'gropegårdsgatan': {'eketrägatan': 1, 'rambergsvallen': 1}, 'grönsakstorget': {'vasaplatsen': 1, 'domkyrkan': 3, 'hagakyrkan': 1}, 'hagakyrkan': {'järntorget': 2, 'vasa viktoriagatan': 3, 'grönsakstorget': 1}, 'hagen': {'tranered': 2, 'nya varvsallén': 1}, 'hammarkullen': {'hjällbo': 1, 'storås': 3}, 'hinsholmen': {'långedrag': 2, 'käringberget': 1}, 'hjalmar brantingsplatsen': {'vågmästareplatsen': 1, 'frihamnen': 5}, 'hjällbo': {'gamlestads torg': 3, 'hammarkullen': 1}, 'härlanda': {'stockholmsgatan': 2, 'munkebäckstorget': 0, 'solrosgatan': 1}, 'jaegerdorffsplatsen': {'vagnhallen majorna': 1, 'chapmans torg': 2}, 'januarigatan': {'allhelgonakyrkan': 2, 'galileis gata': 1}, 'järntorget': {'prinsgatan': 2, 'stenpiren': 3, 'masthuggstorget': 2, 'hagakyrkan': 2}, 'kaggeledstorget': {'ättehögsgatan': 1, 'tingvallsvägen': 1}, 'kapellplatsen': {'chalmers': 1, 'vasaplatsen': 2}, 'kaptensgatan': {'chapmans torg': 2, 'stigbergstorget': 2}, 'komettorget': {'teleskopgatan': 2}, 'korsvägen': {'scandinavium': 2, 'liseberg södra': 1, 'chalmers': 1, 'virginsgatan': 9, 'berzeliigatan': 2}, 'kortedala torg': {'runstavsgatan': 1, 'allhelgonakyrkan': 1}, 'krokslätts fabriker': {'krokslätts torg': 1, 'lackarebäck': 1}, 'krokslätts torg': {'lana': 1, 'krokslätts fabriker': 1}, 'kungsportsplatsen': {'valand': 1, 'brunnsparken': 3}, 'kungssten': {'nya varvsallén': 2, 'sandarna': 1}, 'kviberg': {'bellevue': 1, 'beväringsgatan': 1}, 'käringberget': {'hinsholmen': 1, 'tranered': 1}, 'lackarebäck': {'krokslätts fabriker': 1, 'mölndals sjukhus': 1}, 'lana': {'varbergsgatan': 1, 'krokslätts torg': 1}, 'lantmilsgatan': {'nymilsgatan': 2, 'axel dahlströms torg': 1}, 'lilla bommen': {'brunnsparken': 1, 'frihamnen': 1}, 'linnéplatsen': {'botaniska trädgården': 1, 'olivedalsgatan': 3, 'sahlgrenska huvudentré': 1}, 'liseberg södra': {'korsvägen': 1, 'almedal': 2}, 'långedrag': {'roddföreningen': 1, 'hinsholmen': 2}, 'mariaplan': {'godhemsgatan': 1, 'ostindiegatan': 1, 'sannaplan': 1, 'marklandsgatan': 3}, 'marklandsgatan': {'axel dahlströms torg': 3, 'botaniska trädgården': 3, 'godhemsgatan': 5, 'mariaplan': 3, 'medicinaregatan': 5}, 'masthuggstorget': {'stigbergstorget': 2, 'järntorget': 2}, 'medicinaregatan': {'sahlgrenska huvudentré': 1, 'wavrinskys plats': 1, 'marklandsgatan': 5}, 'mildvädersgatan': {'önskevädersgatan': 1, 'vårväderstorget': 1}, 'munkebäckstorget': {'härlanda': 0, 'ättehögsgatan': 1, 'solrosgatan': 1}, 'musikvägen': {'positivgatan': 1, 'nymilsgatan': 1}, 'mölndals innerstad': {'mölndals sjukhus': 2}, 'mölndals sjukhus': {'lackarebäck': 1, 'mölndals innerstad': 2}, 'nya varvsallén': {'hagen': 1, 'kungssten': 2}, 'nymilsgatan': {'musikvägen': 1, 'lantmilsgatan': 2}, 'nymånegatan': {'beväringsgatan': 1, 'runstavsgatan': 2}, 'olivedalsgatan': {'linnéplatsen': 3, 'prinsgatan': 1, 'vasa viktoriagatan': 5}, 'olskrokstorget': {'svingeln': 1, 'redbergsplatsen': 1}, 'ostindiegatan': {'mariaplan': 1, 'vagnhallen majorna': 1, 'sannaplan': 1}, 'positivgatan': {'frölunda torg spårvagn': 1, 'musikvägen': 1}, 'prinsgatan': {'olivedalsgatan': 1, 'järntorget': 2}, 'rambergsvallen': {'gropegårdsgatan': 1, 'wieselgrensplatsen': 1}, 'redbergsplatsen': {'olskrokstorget': 1, 'stockholmsgatan': 1, 'ejdergatan': 3}, 'roddföreningen': {'långedrag': 1}, 'runstavsgatan': {'nymånegatan': 2, 'kortedala torg': 1}, 'sahlgrenska huvudentré': {'linnéplatsen': 1, 'medicinaregatan': 1, 'botaniska trädgården': 1}, 'sanatoriegatan': {'solrosgatan': 2, 'virginsgatan': 1}, 'sandarna': {'kungssten': 1, 'sannaplan': 1}, 'sannaplan': {'sandarna': 1, 'mariaplan': 1, 'ostindiegatan': 1}, 'scandinavium': {'ullevi södra': 2, 'korsvägen': 2}, 'skf': {'gamlestads torg': 2, 'bellevue': 1}, 'smaragdgatan': {'briljantgatan': 1}, 'solrosgatan': {'härlanda': 1, 'sanatoriegatan': 2, 'munkebäckstorget': 1}, 'stenpiren': {'järntorget': 3, 'brunnsparken': 2}, 'stigbergstorget': {'kaptensgatan': 2, 'masthuggstorget': 2, 'godhemsgatan': 7}, 'stockholmsgatan': {'redbergsplatsen': 1, 'härlanda': 2}, 'storås': {'hammarkullen': 3, 'angered centrum': 0}, 'svingeln': {'ullevi norra': 2, 'olskrokstorget': 1}, 'sälöfjordsgatan': {'vårväderstorget': 2, 'eketrägatan': 1}, 'teleskopgatan': {'galileis gata': 2, 'komettorget': 1}, 'temperaturgatan': {'varmfrontsgatan': 0, 'väderilsgatan': 2}, 'tingvallsvägen': {'kaggeledstorget': 1, 'östra sjukhuset': 1}, 'tranered': {'käringberget': 1, 'hagen': 2}, 'ullevi norra': {'centralstationen': 2, 'svingeln': 2, 'ullevi södra': 2}, 'ullevi södra': {'centralstationen': 0, 'scandinavium': 2, 'ullevi norra': 2}, 'vagnhallen majorna': {'ostindiegatan': 1, 'jaegerdorffsplatsen': 1}, 'valand': {'vasaplatsen': 2, 'kungsportsplatsen': 1, 'berzeliigatan': 2}, 'varbergsgatan': {'elisedal': 2, 'lana': 1}, 'varmfrontsgatan': {'temperaturgatan': 2}, 'vasa viktoriagatan': {'hagakyrkan': 3, 'vasaplatsen': 1, 'olivedalsgatan': 5}, 'vasaplatsen': {'vasa viktoriagatan': 1, 'valand': 2, 'grönsakstorget': 1, 'kapellplatsen': 2}, 'virginsgatan': {'sanatoriegatan': 2, 'korsvägen': 9}, 'väderilsgatan': {'temperaturgatan': 2, 'friskväderstorget': 1}, 'vågmästareplatsen': {'wieselgrensplatsen': 2, 'hjalmar brantingsplatsen': 1}, 'vårväderstorget': {'mildvädersgatan': 1, 'sälöfjordsgatan': 2}, 'wavrinskys plats': {'medicinaregatan': 1, 'chalmers': 5, 'doktor sydows gata': 2}, 'wieselgrensplatsen': {'rambergsvallen': 1, 'vågmästareplatsen': 2}, 'ättehögsgatan': {'munkebäckstorget': 1, 'kaggeledstorget': 1}, 'önskevädersgatan': {'friskväderstorget': 2, 'mildvädersgatan': 1}, 'östra sjukhuset': {'tingvallsvägen': 1}}\n"
     ]
    }
   ],
   "source": [
    "def get_terminal_stops(extracted_dict):\n",
    "    terminal_stops = []\n",
    "    for line, stops in extracted_dict.items():\n",
    "        last_key = list(stops.keys())[-1]\n",
    "        terminal_stops.append(last_key.lower())\n",
    "    return terminal_stops\n",
    "\n",
    "terminal_stops = get_terminal_stops(extracted_dict)\n",
    "all_special_stops = sorted(list(tram_hubs.union({stop.lower() for stop in terminal_stops})))\n",
    "\n",
    "def create_tram_network(extracted_dict, all_special_stops, terminal_stops):\n",
    "    tram_network = {stop: {} for stop in all_special_stops}\n",
    "\n",
    "    for tram, stops in extracted_dict.items():\n",
    "        stops_list = list(stops.items())\n",
    "\n",
    "        # Current index for the stops_list\n",
    "        idx = 0\n",
    "        while idx < len(stops_list) - 1:\n",
    "            # If this stop is a special stop\n",
    "            if stops_list[idx][0] in all_special_stops:\n",
    "                next_idx = idx + 1\n",
    "                total_time = 0\n",
    "\n",
    "                # Accumulate the time until the next special stop is reached\n",
    "                while next_idx < len(stops_list) and stops_list[next_idx][0] not in all_special_stops:\n",
    "                    total_time += stops_list[next_idx][1]\n",
    "                    next_idx += 1\n",
    "\n",
    "                # If the next stop is also a special stop, add to the network\n",
    "                if stops_list[next_idx][0] in all_special_stops:\n",
    "                    # Add the time of the next special stop to the total time\n",
    "                    total_time += stops_list[next_idx][1]\n",
    "                    tram_network[stops_list[idx][0]][stops_list[next_idx][0]] = total_time\n",
    "\n",
    "                    # If the next stop is a terminal, use the starting node's time for the reverse direction\n",
    "                    if stops_list[next_idx][0] in terminal_stops:\n",
    "                        tram_network[stops_list[next_idx][0]][stops_list[idx][0]] = stops_list[idx][1]\n",
    "                    else:\n",
    "                        tram_network[stops_list[next_idx][0]][stops_list[idx][0]] = total_time\n",
    "\n",
    "                # Update the current index\n",
    "                idx = next_idx\n",
    "            else:\n",
    "                idx += 1\n",
    "\n",
    "    return tram_network\n",
    "\n",
    "tram_network = create_tram_network(extracted_dict, all_special_stops, terminal_stops)\n",
    "print(tram_network)"
   ],
   "metadata": {
    "collapsed": false,
    "ExecuteTime": {
     "end_time": "2023-10-04T00:03:53.297047800Z",
     "start_time": "2023-10-04T00:03:53.281413400Z"
    }
   },
   "id": "ff9daf89b8bf24cd"
  },
  {
   "cell_type": "code",
   "execution_count": 76,
   "outputs": [],
   "source": [],
   "metadata": {
    "collapsed": false,
    "ExecuteTime": {
     "end_time": "2023-10-03T23:34:24.345406700Z",
     "start_time": "2023-10-03T23:34:24.250030600Z"
    }
   },
   "id": "65120f79d3cb4001"
  }
 ],
 "metadata": {
  "colab": {
   "provenance": []
  },
  "kernelspec": {
   "display_name": "Python 3 (ipykernel)",
   "language": "python",
   "name": "python3"
  },
  "language_info": {
   "codemirror_mode": {
    "name": "ipython",
    "version": 3
   },
   "file_extension": ".py",
   "mimetype": "text/x-python",
   "name": "python",
   "nbconvert_exporter": "python",
   "pygments_lexer": "ipython3",
   "version": "3.10.9"
  }
 },
 "nbformat": 4,
 "nbformat_minor": 5
}
