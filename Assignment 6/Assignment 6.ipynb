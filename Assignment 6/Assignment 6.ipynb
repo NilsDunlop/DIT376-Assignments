{
 "cells": [
  {
   "cell_type": "markdown",
   "metadata": {
    "id": "95311667"
   },
   "source": [
    "# Assignment 6\n",
    "## Group Members:\n",
    "* ### Nils Dunlop, e-mail: gusdunlni@student.gu.se\n",
    "* ### Francisco Alejandro Erazo Piza, e-mail: guserafr@student.gu.se"
   ],
   "id": "95311667"
  },
  {
   "cell_type": "markdown",
   "source": [
    "## Problem 1"
   ],
   "metadata": {
    "collapsed": false
   },
   "id": "6467e636"
  },
  {
   "cell_type": "code",
   "execution_count": 7,
   "outputs": [
    {
     "name": "stdout",
     "output_type": "stream",
     "text": [
      "Shortest Distance to All nodes: 10\n",
      "Shortest Path from A: ['A', 'C', 'E', 'F']\n",
      "deque(['A', 'C', 'D', 'B', 'D', 'C', 'D'])\n",
      "deque(['A', 'C', 'D', 'B', 'D', 'C', 'D'])\n",
      "deque(['A', 'C', 'D', 'B', 'D', 'C', 'D'])\n",
      "deque(['A', 'C', 'D', 'B', 'D', 'C', 'D'])\n",
      "Shortest Distance to All nodes: 4\n",
      "Shortest Path from A: ['A', 'B', 'D']\n"
     ]
    }
   ],
   "source": [
    "import sys\n",
    "from collections import deque\n",
    "\n",
    "def dijkstra(graph, src):\n",
    "    inf = sys.maxsize\n",
    "    node_data = {node: {'cost': inf, 'pred': []} for node in graph}\n",
    "    node_data[src]['cost'] = 0\n",
    "\n",
    "    priority_queue = [(0, src)]\n",
    "\n",
    "    while priority_queue:\n",
    "        priority_queue.sort(reverse=True, key=lambda x: x[0])\n",
    "\n",
    "        current_cost, current_node = priority_queue.pop()\n",
    "\n",
    "        for neighbor, time in graph[current_node].items():\n",
    "            cost = node_data[current_node]['cost'] + time\n",
    "            if cost < node_data[neighbor]['cost']:\n",
    "                node_data[neighbor]['cost'] = cost\n",
    "                node_data[neighbor]['pred'] = node_data[current_node]['pred'] + [current_node]\n",
    "                priority_queue.append((cost, neighbor))\n",
    "\n",
    "    # for node, data in node_data.items():\n",
    "    #     print(f\"Node: {node}\")\n",
    "    #     print(f\"Shortest Distance from {src}: {data['cost']}\")\n",
    "    #     print(f\"Shortest Path from {src}: {data['pred']} -> {node}\\n\")\n",
    "\n",
    "    farthest_node = max(node_data, key=lambda node: node_data[node]['cost'])\n",
    "    print(f\"Shortest Distance to All nodes: {node_data[farthest_node]['cost']}\")\n",
    "    print(f\"Shortest Path from {src}: {node_data[farthest_node]['pred'] + [farthest_node]}\")\n",
    "\n",
    "\n",
    "def dag_shortest_path(graph, src):\n",
    "    inf = sys.maxsize\n",
    "    node_data = {node: {'cost': inf, 'pred': []} for node in graph}\n",
    "    node_data[src]['cost'] = 0\n",
    "\n",
    "    def topological_sort(graph):\n",
    "        sorted_nodes = deque()\n",
    "        visited = set()\n",
    "\n",
    "        def dfs(node):\n",
    "            visited.add(node)\n",
    "            for neighbor in graph[node]:\n",
    "                if neighbor is not visited:\n",
    "                    dfs(neighbor)\n",
    "            sorted_nodes.appendleft(node)\n",
    "\n",
    "        for node in graph:\n",
    "            if node not in visited:\n",
    "                dfs(node)\n",
    "\n",
    "        return sorted_nodes\n",
    "\n",
    "    sorted_nodes = topological_sort(graph)\n",
    "\n",
    "    for node in sorted_nodes:\n",
    "        for neighbor, time in graph[node].items():\n",
    "            cost = node_data[node]['cost'] + time\n",
    "            if cost < node_data[neighbor]['cost']:\n",
    "                node_data[neighbor]['cost'] = cost\n",
    "                node_data[neighbor]['pred'] = node_data[node]['pred'] + [node]\n",
    "\n",
    "    # for node, data in node_data.items():\n",
    "    #     print(f\"Node: {node}\")\n",
    "    #     print(f\"Shortest Distance from {src}: {data['cost']}\")\n",
    "    #     print(f\"Shortest Path from {src}: {data['pred']} -> {node}\\n\")\n",
    "\n",
    "    farthest_node = max(node_data, key=lambda node: node_data[node]['cost'])\n",
    "    print(f\"Shortest Distance to All nodes: {node_data[farthest_node]['cost']}\")\n",
    "    print(f\"Shortest Path from {src}: {node_data[farthest_node]['pred'] + [farthest_node]}\")\n",
    "\n",
    "\n",
    "if __name__ == \"__main__\":\n",
    "    dijkstra_graph = {\n",
    "        'A':{'B':2,'C':4},\n",
    "        'B':{'A':2,'C':3, 'D':8},\n",
    "        'C':{'A':4,'B':3, 'E':5, 'D':2},\n",
    "        'D':{'B':8,'C':2, 'E':11, 'F':22},\n",
    "        'E':{'C':5,'D':11, 'F':1},\n",
    "        'F':{'D':22,'E':1}\n",
    "    }\n",
    "\n",
    "    dag_graph = {\n",
    "        'A': {'B': 3, 'C': 2},\n",
    "        'B': {'C': 7, 'D': 1},\n",
    "        'C': {'D': 5},\n",
    "        'D': {},\n",
    "    }\n",
    "\n",
    "    source = 'A'\n",
    "    dijkstra(dijkstra_graph, source)\n",
    "    dag_shortest_path(dag_graph, source)"
   ],
   "metadata": {
    "collapsed": false,
    "ExecuteTime": {
     "end_time": "2023-10-03T07:34:16.072085400Z",
     "start_time": "2023-10-03T07:34:16.056432500Z"
    }
   },
   "id": "1108110f9a8085c6"
  },
  {
   "cell_type": "markdown",
   "source": [
    "## Problem 2"
   ],
   "metadata": {
    "collapsed": false
   },
   "id": "d804292b003f09c9"
  },
  {
   "cell_type": "code",
   "execution_count": 9,
   "outputs": [
    {
     "name": "stdout",
     "output_type": "stream",
     "text": [
      "{'Axel Dahlströms Torg': 1, 'Marklandsgatan': 3, 'Botaniska Trädgården': 2, 'Linnéplatsen': 1, 'Olivedalsgatan': 2, 'Seminariegatan': 1, 'Brunnsgatan': 1, 'Handelshögskolan': 2, 'Vasa Viktoriagatan': 1, 'Vasaplatsen': 1, 'Grönsakstorget': 1, 'Domkyrkan': 3, 'Brunnsparken': 2, 'Centralstationen': 3, 'Ullevi Södra': 2, 'Scandinavium': 1, 'Korsvägen': 2, 'Liseberg Södra': 2, 'Almedal': 1, 'Elisedal': 1, 'Varbergsgatan': 1, 'Lana': 1, 'Krokslätts torg': 1, 'Krokslätts Fabriker': 2, 'Lackarebäck': 1, 'Mölndals sjukhus': 2, 'Mölndals Innerstad': 0}\n"
     ]
    }
   ],
   "source": [
    "import tarfile\n",
    "\n",
    "def extract_tar_to_dict(tar_file_path):\n",
    "    extracted_files = {}\n",
    "\n",
    "    try:\n",
    "        with tarfile.open(tar_file_path, 'r:gz') as tar:\n",
    "            for item in tar:\n",
    "                if item.name.startswith('Data/._'):\n",
    "                    continue\n",
    "                if item.isfile() and 'tram' in item.name and item.name.endswith('.txt'):\n",
    "                    file = tar.extractfile(item)\n",
    "                    if file:\n",
    "                        tram_dict = {}\n",
    "\n",
    "                        for line in file:\n",
    "                            line = line.decode('utf-8', errors='ignore').strip()\n",
    "\n",
    "                            tram_stop, time = line.split(', ')\n",
    "\n",
    "                            tram_dict[tram_stop] = int(time)\n",
    "\n",
    "                        tram_number = item.name.replace('Data/', '').replace('.txt', '')\n",
    "                        extracted_files[tram_number] = tram_dict\n",
    "    except FileNotFoundError:\n",
    "        print(f\"{tar_file_path} not found.\")\n",
    "    except tarfile.ReadError:\n",
    "        print(f\"{tar_file_path} is not a tar file.\")\n",
    "\n",
    "    return extracted_files\n",
    "\n",
    "\n",
    "tar_file_path = 'Data_A6.tar.gz'\n",
    "extracted_dict = extract_tar_to_dict(tar_file_path)\n",
    "print(extracted_dict)"
   ],
   "metadata": {
    "collapsed": false,
    "ExecuteTime": {
     "end_time": "2023-10-03T07:36:49.220189200Z",
     "start_time": "2023-10-03T07:36:49.188069300Z"
    }
   },
   "id": "446b2853deee2a41"
  },
  {
   "cell_type": "code",
   "execution_count": 66,
   "outputs": [
    {
     "name": "stdout",
     "output_type": "stream",
     "text": [
      "{'Hagakyrkan', 'Eketrägatan', 'Bellevue', 'Beväringsgatan', 'Mariaplan', 'Kaggeledstorget', 'Masthuggstorget', 'SKF', 'Friskväderstorget', 'Ättehögsgatan', 'Galileis gata', 'Brunnsparken', 'Nya Varvsallén', 'Temperaturgatan', 'Vagnhallen Majorna', 'Frölunda Torg Spårvagn', 'Olskrokstorget', 'Hjällbo', 'Domkyrkan', 'Kungssten', 'Roddföreningen', 'Januarigatan', 'Hagen', 'Chalmers', 'Kaptensgatan', 'Käringberget', 'Tingvallsvägen', 'Chapmans Torg', 'Gropegårdsgatan', 'Gamlestads Torg', 'Grönsakstorget', 'Varbergsgatan', 'Solrosgatan', 'Frihamnen', 'Ejdergatan', 'Centralstationen', 'Sälöfjordsgatan', 'Wavrinskys plats', 'Vasa Viktoriagatan', 'Sahlgrenska Huvudentré', 'Långedrag', 'Lilla Bommen', 'Stenpiren', 'Väderilsgatan', 'Runstavsgatan', 'Sanatoriegatan', 'Sannaplan', 'Mildvädersgatan', 'Nymilsgatan', 'Kviberg', 'Lackarebäck', 'Berzeliigatan', 'Stockholmsgatan', 'Ullevi Södra', 'Nymånegatan', 'Mölndals sjukhus', 'Prinsgatan', 'Munkebäckstorget', 'Botaniska Trädgården', 'Axel Dahlströms Torg', 'Marklandsgatan', 'Ostindiegatan', 'Positivgatan', 'Godhemsgatan', 'Vasaplatsen', 'Allhelgonakyrkan', 'Valand', 'Jaegerdorffsplatsen', 'Elisedal', 'Tranered', 'Vårväderstorget', 'Vågmästareplatsen', 'Kortedala Torg', 'Krokslätts torg', 'Wavrinskys Plats', 'Redbergsplatsen', 'Hammarkullen', 'Sandarna', 'Järntorget', 'Lantmilsgatan', 'Virginsgatan', 'Olivedalsgatan', 'Korsvägen', 'Musikvägen', 'Kapellplatsen', 'Rambergsvallen', 'Storås', 'Smaragdgatan', 'Härlanda', 'Stigbergstorget', 'Briljantgatan', 'Linnéplatsen', 'Medicinaregatan', 'Almedal', 'Ullevi Norra', 'Scandinavium', 'Hjalmar Brantingsplatsen', 'Teleskopgatan', 'Hinsholmen', 'Liseberg Södra', 'Önskevädersgatan', 'Svingeln', 'Kungsportsplatsen', 'Wieselgrensplatsen', 'Lana'}\n"
     ]
    }
   ],
   "source": [
    "def get_complete_tram_data(extracted_dict):\n",
    "    reverse_dict = {}\n",
    "\n",
    "    for tram, stops in extracted_dict.items():\n",
    "        reversed_stops = {}\n",
    "        prev_stop = None\n",
    "        prev_time = None\n",
    "\n",
    "        for stop, time in list(stops.items())[::-1]:\n",
    "            if prev_stop is not None:\n",
    "                reversed_stops[prev_stop] = prev_time\n",
    "\n",
    "            prev_stop = stop\n",
    "            prev_time = time\n",
    "\n",
    "        reversed_stops[prev_stop] = 0\n",
    "        reverse_tram = f\"{tram}_reverse\"\n",
    "        reverse_dict[reverse_tram] = reversed_stops\n",
    "\n",
    "    return {**extracted_dict, **reverse_dict}\n",
    "\n",
    "\n",
    "def get_tram_hubs(complete_tram_data, extracted_dict):\n",
    "    all_tram_stops, tram_hubs = set(), set()\n",
    "    connections_count = {}\n",
    "\n",
    "    for inner_dict in complete_tram_data.values():\n",
    "        for key in inner_dict.keys():\n",
    "            all_tram_stops.add(key)\n",
    "\n",
    "    for tram_stop in all_tram_stops:\n",
    "        connections_count[tram_stop] = 0\n",
    "\n",
    "    for tram_line in extracted_dict.values():  \n",
    "        stops = list(tram_line.keys())\n",
    "        for i in range(len(stops) - 1):\n",
    "            current_stop = stops[i]\n",
    "            next_stop = stops[i + 1]\n",
    "            connections_count[current_stop] += 1\n",
    "            connections_count[next_stop] += 1\n",
    "\n",
    "    for stop, count in connections_count.items():\n",
    "        if count >= 3:\n",
    "            tram_hubs.add(stop)\n",
    "\n",
    "    return tram_hubs\n",
    "\n",
    "\n",
    "# Using the functions:\n",
    "extracted_dict = extract_tar_to_dict('Data_A6.tar.gz')\n",
    "complete_tram_data = get_complete_tram_data(extracted_dict)\n",
    "tram_hubs = get_tram_hubs(complete_tram_data, extracted_dict)\n",
    "\n",
    "print(tram_hubs)"
   ],
   "metadata": {
    "collapsed": false,
    "ExecuteTime": {
     "end_time": "2023-10-02T22:38:29.208943900Z",
     "start_time": "2023-10-02T22:38:29.181959400Z"
    }
   },
   "id": "cd2b3008df226ce5"
  },
  {
   "cell_type": "code",
   "execution_count": null,
   "outputs": [],
   "source": [],
   "metadata": {
    "collapsed": false
   },
   "id": "ff9daf89b8bf24cd"
  }
 ],
 "metadata": {
  "colab": {
   "provenance": []
  },
  "kernelspec": {
   "display_name": "Python 3 (ipykernel)",
   "language": "python",
   "name": "python3"
  },
  "language_info": {
   "codemirror_mode": {
    "name": "ipython",
    "version": 3
   },
   "file_extension": ".py",
   "mimetype": "text/x-python",
   "name": "python",
   "nbconvert_exporter": "python",
   "pygments_lexer": "ipython3",
   "version": "3.10.9"
  }
 },
 "nbformat": 4,
 "nbformat_minor": 5
}
