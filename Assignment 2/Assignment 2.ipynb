{
 "cells": [
  {
   "cell_type": "markdown",
   "metadata": {},
   "source": [
    "# Assignment 2\n",
    "## Group Members:\n",
    "* ### Nils Dunlop, e-mail: gusdunlni@student.gu.se\n",
    "* ### Francisco Alejandro Erazo Piza, e-mail: guserafr@student.gu.se\n"
   ]
  },
  {
   "cell_type": "markdown",
   "metadata": {},
   "source": [
    "## Problem 1"
   ]
  },
  {
   "cell_type": "markdown",
   "metadata": {},
   "source": [
    "### Task 1"
   ]
  },
  {
   "cell_type": "markdown",
   "metadata": {},
   "source": [
    "#### Creating a list of words using the file \"words.txt\""
   ]
  },
  {
   "cell_type": "code",
   "execution_count": 1,
   "metadata": {},
   "outputs": [],
   "source": [
    "# Initialize empty list\n",
    "words_from_txt = []\n",
    "\n",
    "# Path to the words.txt file\n",
    "file_path = \"/Users/faerazo/Downloads/words.txt\"\n",
    "\n",
    "# Open the file and read its contents line by line\n",
    "with open(file_path, 'r') as file:\n",
    "    for line in file:\n",
    "        # Remove leading and trailing whitespace, and append the word to the list\n",
    "        word = line.strip()\n",
    "        words_from_txt.append(word)\n",
    "        "
   ]
  },
  {
   "cell_type": "markdown",
   "metadata": {},
   "source": [
    "We will use `words_small_list` to test the functions. While `words_from_txt` will be used for testing the performance."
   ]
  },
  {
   "cell_type": "code",
   "execution_count": 2,
   "metadata": {},
   "outputs": [],
   "source": [
    "words_small_list = [\"apple\", \"banana\", \"cherry\", \"date\", \"elderberry\", \"fig\", \"grape\", \"honeydew\", \"kiwi\", \"lemon\", \"mango\", \"nectarine\", \"orange\", \"peach\", \"pear\", \"quince\", \"raspberry\", \"strawberry\", \"tangerine\", \"watermelon\", \"apricot\", \"blueberry\", \"cranberry\", \"dragonfruit\", \"guava\", \"lime\", \"papaya\", \"passionfruit\", \"pineapple\", \"pomegranate\", \"blackberry\", \"boysenberry\", \"currant\", \"gooseberry\", \"grapefruit\", \"kumquat\", \"lychee\", \"mulberry\", \"persimmon\", \"plum\", \"rhubarb\", \"blackcurrant\", \"cantaloupe\", \"clementine\", \"coconut\", \"date\", \"elderberry\", \"fig\", \"grape\", \"honeydew\", \"kiwi\", \"lemon\", \"mango\", \"nectarine\", \"orange\", \"peach\", \"pear\", \"quince\", \"raspberry\", \"strawberry\", \"tangerine\", \"watermelon\", \"apricot\", \"blueberry\", \"cranberry\", \"dragonfruit\", \"guava\", \"lime\", \"papaya\", \"passionfruit\", \"pineapple\", \"pomegranate\", \"blackberry\", \"boysenberry\", \"currant\", \"gooseberry\", \"grapefruit\", \"kumquat\", \"lychee\", \"mulberry\", \"persimmon\", \"plum\", \"rhubarb\", \"blackcurrant\", \"cantaloupe\", \"clementine\", \"coconut\", \"date\", \"elderberry\", \"fig\", \"grape\", \"honeydew\", \"kiwi\", \"lemon\", \"mango\", \"nectarine\", \"orange\", \"peach\", \"pear\", \"quince\", \"raspberry\", \"strawberry\", \"tangerine\", \"watermelon\"]"
   ]
  },
  {
   "cell_type": "markdown",
   "metadata": {},
   "source": [
    "#### Write a simple solution to find all the words with a given letter in a given position"
   ]
  },
  {
   "cell_type": "code",
   "execution_count": 3,
   "metadata": {},
   "outputs": [],
   "source": [
    "# Simple function to find words in a list of words that have a specific letter at a specific position\n",
    "def find_words_simple(words, position, letter):\n",
    "    result = []\n",
    "    for word in words:\n",
    "        if len(word) > position and word[position] == letter:\n",
    "            result.append(word)\n",
    "    return result"
   ]
  },
  {
   "cell_type": "markdown",
   "metadata": {},
   "source": [
    "#### Testing the simple function"
   ]
  },
  {
   "cell_type": "code",
   "execution_count": 4,
   "metadata": {},
   "outputs": [
    {
     "name": "stdout",
     "output_type": "stream",
     "text": [
      "results =  ['grape', 'orange', 'peach', 'pear', 'cranberry', 'dragonfruit', 'guava', 'blackberry', 'grapefruit', 'blackcurrant', 'grape', 'orange', 'peach', 'pear', 'cranberry', 'dragonfruit', 'guava', 'blackberry', 'grapefruit', 'blackcurrant', 'grape', 'orange', 'peach', 'pear']\n"
     ]
    }
   ],
   "source": [
    "# Call the function to find words with a specific letter at a specific position\n",
    "words_at_position_simple = find_words_simple(words_small_list, 2, \"a\")\n",
    "\n",
    "# Print the result\n",
    "print(\"results = \", words_at_position_simple)\n"
   ]
  },
  {
   "cell_type": "markdown",
   "metadata": {},
   "source": [
    "### Task 2"
   ]
  },
  {
   "cell_type": "markdown",
   "metadata": {},
   "source": [
    "#### Write a more efficient solution by using a different data structure."
   ]
  },
  {
   "cell_type": "markdown",
   "metadata": {},
   "source": [
    "We can use a dictionary for a more efficient solution. The keys are letters (at the needed position), and the values are lists of words with that letter at the given position. Using this data structure, we can speed up retrieving all words that match the criteria without iterating through the entire list each time."
   ]
  },
  {
   "cell_type": "code",
   "execution_count": 5,
   "metadata": {},
   "outputs": [],
   "source": [
    "# Function to build a word index from a list of words and a position in the word\n",
    "def build_word_index(words, position):\n",
    "    word_index = {} # Initialize empty dictionary\n",
    "    for word in words: # Loop through the words in the list of words \n",
    "        if len(word) > position: # Check if the word is long enough to have the position we're looking for \n",
    "            letter = word[position] # Get the letter at the specified position\n",
    "            if letter not in word_index: # Check if the letter is already in the word index\n",
    "                word_index[letter] = [] # If not, add it as a key and initialize an empty list as its value\n",
    "            word_index[letter].append(word) # Append the word to the list associated with the letter\n",
    "    return word_index \n",
    "\n",
    "# Function to find words in a word index that have a specific letter at a specific position\n",
    "def find_words_efficient(word_index, letter):\n",
    "    if letter in word_index:\n",
    "        return word_index[letter]\n",
    "    else:\n",
    "        return []"
   ]
  },
  {
   "cell_type": "markdown",
   "metadata": {},
   "source": [
    "Example use:\n",
    "1. Create a dictionary using the `build_word_index(words, position)` function. `word_index = build_word_index(words, 1)`\n",
    "2. Use `find_words(word_index, letter)` to find all words with the given letter at the given position. `find_words(word_index, 'a')`"
   ]
  },
  {
   "cell_type": "markdown",
   "metadata": {},
   "source": [
    "#### Testing the more efficient function"
   ]
  },
  {
   "cell_type": "code",
   "execution_count": 6,
   "metadata": {},
   "outputs": [
    {
     "name": "stdout",
     "output_type": "stream",
     "text": [
      "results =  ['grape', 'orange', 'peach', 'pear', 'cranberry', 'dragonfruit', 'guava', 'blackberry', 'grapefruit', 'blackcurrant', 'grape', 'orange', 'peach', 'pear', 'cranberry', 'dragonfruit', 'guava', 'blackberry', 'grapefruit', 'blackcurrant', 'grape', 'orange', 'peach', 'pear']\n"
     ]
    }
   ],
   "source": [
    "# Call the function to build a word index from a list of words and a position in the word\n",
    "word_index = build_word_index(words_small_list, 2)\n",
    "\n",
    "# Call the function to find words with a specific letter at a specific position\n",
    "words_at_position_efficient = find_words_efficient(word_index, \"a\")\n",
    "\n",
    "# Print the result\n",
    "print(\"results = \", words_at_position_efficient)"
   ]
  },
  {
   "cell_type": "markdown",
   "metadata": {},
   "source": [
    "### Task 3"
   ]
  },
  {
   "cell_type": "markdown",
   "metadata": {},
   "source": [
    "#### Using `timeit` to compare the two functions and see which one is faster"
   ]
  },
  {
   "cell_type": "code",
   "execution_count": 7,
   "metadata": {},
   "outputs": [
    {
     "name": "stdout",
     "output_type": "stream",
     "text": [
      "Simple Solution Time: 3.966554 seconds\n",
      "Efficient Solution Time: 0.000016 seconds\n"
     ]
    }
   ],
   "source": [
    "import timeit\n",
    "\n",
    "# Measure the time for the simple solution\n",
    "time_simple = timeit.timeit(lambda: find_words_simple(words_from_txt, 1, 'a'), number=100) # Call the function 100 times\n",
    "\n",
    "# Measure the time for the efficient solution (remember to setup the dictionary first)\n",
    "word_index_from_text = build_word_index(words_from_txt, 1)\n",
    "\n",
    "time_efficient = timeit.timeit(lambda: find_words_efficient(word_index, 'a'), number=100) # Call the function 10000 times\n",
    "\n",
    "# Print the results\n",
    "print(f\"Simple Solution Time: {time_simple:.6f} seconds\")\n",
    "print(f\"Efficient Solution Time: {time_efficient:.6f} seconds\")"
   ]
  },
  {
   "cell_type": "markdown",
   "metadata": {},
   "source": [
    "## Problem 2\n",
    "\n",
    "We create three methods `read_words_from_file()`, `find_anagrams()`, `export_to_json()`. `read_words_from_file()` handles the extraction of words from the `words.txt` file. `find_anagrams()` is determines the anagrams of the words and adds them into a dictionary of lists. `export_to_json()` takes the final dictionary and creates a corresponding json file."
   ]
  },
  {
   "cell_type": "code",
   "execution_count": 1,
   "metadata": {},
   "outputs": [],
   "source": [
    "import json\n",
    "\n",
    "# Extract all the words from the words.txt file and add them to a list\n",
    "def read_words_from_file(filename):\n",
    "    with open(filename, 'r') as file:\n",
    "        words = [line.strip() for line in file]\n",
    "    return words\n",
    "\n",
    "# Method to find all the anagrams given a word list\n",
    "def find_anagrams(word_list):\n",
    "    anagram_groups = {}\n",
    "    \n",
    "    \"\"\"\n",
    "    For each of the words a word singature is created. To illustrate this we can take the\n",
    "    words ABBA and BABA if we create a signature both will be sorted in alphabetical order\n",
    "    AABB, AABB that way we can easily check if words are anagrams of eachother.\n",
    "    \"\"\"\n",
    "    \n",
    "    for word in word_list:\n",
    "        signature = ''.join(sorted(word))\n",
    "        if signature in anagram_groups: # If anagram already exists just append anagram into list\n",
    "            anagram_groups[signature].append(word)\n",
    "        else: \n",
    "            anagram_groups[signature] = [word] # Otherwise create a new list with word anagrams\n",
    "\n",
    "    # Construct final dictionary\n",
    "    final_dictionary = {}\n",
    "    for word_group in anagram_groups.values():\n",
    "        # Check if word group is an anagram\n",
    "        if len(word_group) > 1:\n",
    "            key = len(word_group[0])\n",
    "            if key not in final_dictionary:\n",
    "                final_dictionary[key] = []\n",
    "\n",
    "            final_dictionary[key].append(word_group)  # Append the whole anagram group as a list\n",
    "            \n",
    "    # Sort each anagram group list by the anagram list length\n",
    "    for key, groups in final_dictionary.items():\n",
    "        final_dictionary[key] = sorted(groups, key=len, reverse=True)\n",
    "\n",
    "    return final_dictionary\n",
    "\n",
    "# Method to extract the dictionary as a .json file using the json.dump() method\n",
    "def export_to_json(data, filename):\n",
    "    with open(filename, 'w') as file:\n",
    "        json.dump(data, file, indent=4)"
   ]
  },
  {
   "cell_type": "markdown",
   "metadata": {},
   "source": [
    "#### Creates a main function that calls all other methods and takes user input for the final output json file"
   ]
  },
  {
   "cell_type": "code",
   "execution_count": 2,
   "metadata": {},
   "outputs": [
    {
     "name": "stdout",
     "output_type": "stream",
     "text": [
      "Enter the desired word length: 6\n",
      "Enter the filename for the JSON output: output\n",
      "Anagrams of length 6 have been saved to output.json.\n"
     ]
    }
   ],
   "source": [
    "def main():\n",
    "    word_list = read_words_from_file(\"words.txt\")\n",
    "    anagram_dictionary = find_anagrams(word_list)\n",
    "\n",
    "    # Prompt the user for word length and filename\n",
    "    try:\n",
    "        selected_length = int(input(\"Enter the desired word length: \"))\n",
    "        filename = input(\"Enter the filename for the JSON output: \")\n",
    "        \n",
    "        # Ensure filename ends with .json\n",
    "        if not filename.endswith('.json'):\n",
    "            filename += '.json'\n",
    "\n",
    "        # Filter the dictionary for the selected word length\n",
    "        if selected_length in anagram_dictionary:\n",
    "            data_to_export = {selected_length: anagram_dictionary[selected_length]}\n",
    "            export_to_json(data_to_export, filename)\n",
    "            print(f\"Anagrams of length {selected_length} have been saved to {filename}.\")\n",
    "        else:\n",
    "            print(f\"No anagrams of length {selected_length} found.\")\n",
    "    except ValueError:\n",
    "        print(\"Please enter a valid number for the word length.\")\n",
    "\n",
    "if __name__ == \"__main__\":\n",
    "    main()"
   ]
  },
  {
   "cell_type": "markdown",
   "metadata": {},
   "source": [
    "### Which data structure did you use and why?\n",
    "\n",
    "I utilized dictionaries and lists to address problem 2.\n",
    "\n",
    "Dictionaries were chosen primarily because the requirement was to categorize anagrams based on their word length. By using the word length as the dictionary key, we can achieve constant time complexity O(1) for access operations, making it efficient to retrieve anagrams for a particular word length.\n",
    "\n",
    "Lists, on the other hand, were used to hold the anagrams corresponding to each word length. This decision was driven by the fact that lists are ordered collections and allow for simple iteration, even though the order of the words within each anagram group wasn't a primary concern. Lists also offer the flexibility to store multiple items (in this case, words) of the same value, which is a feature we need for storing groups of anagrams."
   ]
  }
 ],
 "metadata": {
  "kernelspec": {
   "display_name": "Python 3 (ipykernel)",
   "language": "python",
   "name": "python3"
  },
  "language_info": {
   "codemirror_mode": {
    "name": "ipython",
    "version": 3
   },
   "file_extension": ".py",
   "mimetype": "text/x-python",
   "name": "python",
   "nbconvert_exporter": "python",
   "pygments_lexer": "ipython3",
   "version": "3.10.9"
  }
 },
 "nbformat": 4,
 "nbformat_minor": 2
}
