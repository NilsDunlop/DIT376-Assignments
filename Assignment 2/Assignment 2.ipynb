{
 "cells": [
  {
   "cell_type": "markdown",
   "metadata": {},
   "source": [
    "# Assignment 2\n",
    "## Group Members:\n",
    "* ### Nils Dunlop, e-mail: gusdunlni@student.gu.se\n",
    "* ### Francisco Alejandro Erazo Piza, e-mail: guserafr@student.gu.se\n"
   ]
  },
  {
   "cell_type": "markdown",
   "metadata": {},
   "source": [
    "## Problem 1"
   ]
  },
  {
   "cell_type": "markdown",
   "metadata": {},
   "source": [
    "### Task 1"
   ]
  },
  {
   "cell_type": "markdown",
   "metadata": {},
   "source": [
    "#### Creating a list of words using the file \"words.txt\""
   ]
  },
  {
   "cell_type": "code",
   "execution_count": 1,
   "metadata": {},
   "outputs": [],
   "source": [
    "# Initialize empty list\n",
    "words_from_txt = []\n",
    "\n",
    "# Path to the words.txt file\n",
    "file_path = \"/Users/faerazo/Downloads/words.txt\"\n",
    "\n",
    "# Open the file and read its contents line by line\n",
    "with open(file_path, 'r') as file:\n",
    "    for line in file:\n",
    "        # Remove leading and trailing whitespace, and append the word to the list\n",
    "        word = line.strip()\n",
    "        words_from_txt.append(word)\n",
    "        "
   ]
  },
  {
   "cell_type": "markdown",
   "metadata": {},
   "source": [
    "We will use `words_list_small` to test the functions. While `words_from_txt` will be used for testing the performance."
   ]
  },
  {
   "cell_type": "code",
   "execution_count": 2,
   "metadata": {},
   "outputs": [],
   "source": [
    "words_small_list = [\"apple\", \"banana\", \"cherry\", \"date\", \"elderberry\", \"fig\", \"grape\", \"honeydew\", \"kiwi\", \"lemon\", \"mango\", \"nectarine\", \"orange\", \"peach\", \"pear\", \"quince\", \"raspberry\", \"strawberry\", \"tangerine\", \"watermelon\", \"apricot\", \"blueberry\", \"cranberry\", \"dragonfruit\", \"guava\", \"lime\", \"papaya\", \"passionfruit\", \"pineapple\", \"pomegranate\", \"blackberry\", \"boysenberry\", \"currant\", \"gooseberry\", \"grapefruit\", \"kumquat\", \"lychee\", \"mulberry\", \"persimmon\", \"plum\", \"rhubarb\", \"blackcurrant\", \"cantaloupe\", \"clementine\", \"coconut\", \"date\", \"elderberry\", \"fig\", \"grape\", \"honeydew\", \"kiwi\", \"lemon\", \"mango\", \"nectarine\", \"orange\", \"peach\", \"pear\", \"quince\", \"raspberry\", \"strawberry\", \"tangerine\", \"watermelon\", \"apricot\", \"blueberry\", \"cranberry\", \"dragonfruit\", \"guava\", \"lime\", \"papaya\", \"passionfruit\", \"pineapple\", \"pomegranate\", \"blackberry\", \"boysenberry\", \"currant\", \"gooseberry\", \"grapefruit\", \"kumquat\", \"lychee\", \"mulberry\", \"persimmon\", \"plum\", \"rhubarb\", \"blackcurrant\", \"cantaloupe\", \"clementine\", \"coconut\", \"date\", \"elderberry\", \"fig\", \"grape\", \"honeydew\", \"kiwi\", \"lemon\", \"mango\", \"nectarine\", \"orange\", \"peach\", \"pear\", \"quince\", \"raspberry\", \"strawberry\", \"tangerine\", \"watermelon\"]"
   ]
  },
  {
   "cell_type": "markdown",
   "metadata": {},
   "source": [
    "#### Write a simple solution to find all the words with a given letter in a given position"
   ]
  },
  {
   "cell_type": "code",
   "execution_count": 3,
   "metadata": {},
   "outputs": [],
   "source": [
    "# Simple function to find words in a list of words that have a specific letter at a specific position\n",
    "def find_words_simple(words, position, letter):\n",
    "    result = []\n",
    "    for word in words:\n",
    "        if len(word) > position and word[position] == letter:\n",
    "            result.append(word)\n",
    "    return result"
   ]
  },
  {
   "cell_type": "markdown",
   "metadata": {},
   "source": [
    "#### Testing the simple function"
   ]
  },
  {
   "cell_type": "code",
   "execution_count": 4,
   "metadata": {},
   "outputs": [
    {
     "name": "stdout",
     "output_type": "stream",
     "text": [
      "results =  ['grape', 'orange', 'peach', 'pear', 'cranberry', 'dragonfruit', 'guava', 'blackberry', 'grapefruit', 'blackcurrant', 'grape', 'orange', 'peach', 'pear', 'cranberry', 'dragonfruit', 'guava', 'blackberry', 'grapefruit', 'blackcurrant', 'grape', 'orange', 'peach', 'pear']\n"
     ]
    }
   ],
   "source": [
    "# Call the function to find words with a specific letter at a specific position\n",
    "words_at_position_simple = find_words_simple(words_small_list, 2, \"a\")\n",
    "\n",
    "# Print the result\n",
    "print(\"results = \", words_at_position_simple)\n"
   ]
  },
  {
   "cell_type": "markdown",
   "metadata": {},
   "source": [
    "### Task 2"
   ]
  },
  {
   "cell_type": "markdown",
   "metadata": {},
   "source": [
    "#### Write a more efficient solution by using a different data structure."
   ]
  },
  {
   "cell_type": "markdown",
   "metadata": {},
   "source": [
    "We can use a dictionary for a more efficient solution. The keys are letters (at the needed position), and the values are lists of words with that letter at the given position. Using this data structure, we can speed up retrieving all words that match the criteria without iterating through the entire list each time."
   ]
  },
  {
   "cell_type": "code",
   "execution_count": 5,
   "metadata": {},
   "outputs": [],
   "source": [
    "# Function to build a word index from a list of words and a position in the word\n",
    "def build_word_index(words, position):\n",
    "    word_index = {} # Initialize empty dictionary\n",
    "    for word in words: # Loop through the words in the list of words \n",
    "        if len(word) > position: # Check if the word is long enough to have the position we're looking for \n",
    "            letter = word[position] # Get the letter at the specified position\n",
    "            if letter not in word_index: # Check if the letter is already in the word index\n",
    "                word_index[letter] = [] # If not, add it as a key and initialize an empty list as its value\n",
    "            word_index[letter].append(word) # Append the word to the list associated with the letter\n",
    "    return word_index \n",
    "\n",
    "# Function to find words in a word index that have a specific letter at a specific position\n",
    "def find_words_efficient(word_index, letter):\n",
    "    if letter in word_index:\n",
    "        return word_index[letter]\n",
    "    else:\n",
    "        return []"
   ]
  },
  {
   "cell_type": "markdown",
   "metadata": {},
   "source": [
    "Example use:\n",
    "1. Create a dictionary using the `build_word_index(words, position)` function. `word_index = build_word_index(words, 1)`\n",
    "2. Use `find_words(word_index, letter)` to find all words with the given letter at the given position. `find_words(word_index, 'a')`"
   ]
  },
  {
   "cell_type": "markdown",
   "metadata": {},
   "source": [
    "#### Testing the more efficient function"
   ]
  },
  {
   "cell_type": "code",
   "execution_count": 6,
   "metadata": {},
   "outputs": [
    {
     "name": "stdout",
     "output_type": "stream",
     "text": [
      "results =  ['grape', 'orange', 'peach', 'pear', 'cranberry', 'dragonfruit', 'guava', 'blackberry', 'grapefruit', 'blackcurrant', 'grape', 'orange', 'peach', 'pear', 'cranberry', 'dragonfruit', 'guava', 'blackberry', 'grapefruit', 'blackcurrant', 'grape', 'orange', 'peach', 'pear']\n"
     ]
    }
   ],
   "source": [
    "# Call the function to build a word index from a list of words and a position in the word\n",
    "word_index = build_word_index(words_small_list, 2)\n",
    "\n",
    "# Call the function to find words with a specific letter at a specific position\n",
    "words_at_position_efficient = find_words_efficient(word_index, \"a\")\n",
    "\n",
    "# Print the result\n",
    "print(\"results = \", words_at_position_efficient)"
   ]
  },
  {
   "cell_type": "markdown",
   "metadata": {},
   "source": [
    "### Task 3"
   ]
  },
  {
   "cell_type": "markdown",
   "metadata": {},
   "source": [
    "#### Using `timeit` to compare the two functions and see which one is faster"
   ]
  },
  {
   "cell_type": "code",
   "execution_count": 7,
   "metadata": {},
   "outputs": [
    {
     "name": "stdout",
     "output_type": "stream",
     "text": [
      "Simple Solution Time: 3.958415 seconds\n",
      "Efficient Solution Time: 0.000016 seconds\n"
     ]
    }
   ],
   "source": [
    "import timeit\n",
    "\n",
    "# Measure the time for the simple solution\n",
    "time_simple = timeit.timeit(lambda: find_words_simple(words_from_txt, 1, 'a'), number=100) # Call the function 100 times\n",
    "\n",
    "# Measure the time for the efficient solution (remember to setup the dictionary first)\n",
    "word_index_from_text = build_word_index(words_from_txt, 1)\n",
    "\n",
    "time_efficient = timeit.timeit(lambda: find_words_efficient(word_index, 'a'), number=100) # Call the function 10000 times\n",
    "\n",
    "# Print the results\n",
    "print(f\"Simple Solution Time: {time_simple:.6f} seconds\")\n",
    "print(f\"Efficient Solution Time: {time_efficient:.6f} seconds\")"
   ]
  }
 ],
 "metadata": {
  "kernelspec": {
   "display_name": "general",
   "language": "python",
   "name": "python3"
  },
  "language_info": {
   "codemirror_mode": {
    "name": "ipython",
    "version": 3
   },
   "file_extension": ".py",
   "mimetype": "text/x-python",
   "name": "python",
   "nbconvert_exporter": "python",
   "pygments_lexer": "ipython3",
   "version": "3.10.12"
  },
  "orig_nbformat": 4
 },
 "nbformat": 4,
 "nbformat_minor": 2
}
