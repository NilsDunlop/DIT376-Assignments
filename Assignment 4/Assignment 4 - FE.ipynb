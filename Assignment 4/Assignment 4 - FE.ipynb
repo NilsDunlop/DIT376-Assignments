{
 "cells": [
  {
   "cell_type": "markdown",
   "metadata": {},
   "source": [
    "# Assignment 3\n",
    "* ### Francisco Alejandro Erazo Piza, e-mail: guserafr@student.gu.se"
   ]
  },
  {
   "cell_type": "markdown",
   "metadata": {},
   "source": [
    "## Problem 1"
   ]
  },
  {
   "cell_type": "code",
   "execution_count": 25,
   "metadata": {},
   "outputs": [],
   "source": [
    "def encode(input_string):\n",
    "    i = 0\n",
    "    while i < len(input_string):\n",
    "        char = input_string[i]\n",
    "        count = 1  # Initialize the count of consecutive characters to 1\n",
    "        i += 1  # Move to the next character in the input string\n",
    "        while i < len(input_string) and input_string[i] == char:\n",
    "            # While the next character is the same as the current character, increase the count\n",
    "            count += 1\n",
    "            i += 1\n",
    "        yield f\"{char}{count}\"  # Yield the encoded character and its count\n",
    "\n",
    "def decode(encoded_str):\n",
    "    i = 0\n",
    "    while i < len(encoded_str):\n",
    "        char = encoded_str[i]\n",
    "        i += 1  # Move to the next character in the encoded string\n",
    "        count = \"\"\n",
    "        while i < len(encoded_str) and encoded_str[i].isdigit():\n",
    "            # While the next character is a digit, build the count\n",
    "            count += encoded_str[i]\n",
    "            i += 1\n",
    "        if count:\n",
    "            yield char * int(count)  # Yield the decoded character repeated by its count\n"
   ]
  },
  {
   "cell_type": "code",
   "execution_count": 26,
   "metadata": {},
   "outputs": [
    {
     "name": "stdout",
     "output_type": "stream",
     "text": [
      "I1t1'1s1 1_2s1o5_2 1w1o1w3!3\n",
      "It's __sooooo__ wowww!!!\n"
     ]
    }
   ],
   "source": [
    "# Example of usage 1:\n",
    "s = \"It's __sooooo__ wowww!!!\"\n",
    "encoded = ''.join(encode(s))\n",
    "print(encoded)\n",
    "\n",
    "decoded = ''.join(decode(encoded))\n",
    "print(decoded)"
   ]
  },
  {
   "cell_type": "code",
   "execution_count": 27,
   "metadata": {},
   "outputs": [
    {
     "name": "stdout",
     "output_type": "stream",
     "text": [
      "‘5´6*7^5\n",
      "‘‘‘‘‘´´´´´´*******^^^^^\n"
     ]
    }
   ],
   "source": [
    "# Example of usage 2\n",
    "s = \"‘‘‘‘‘´´´´´´*******^^^^^\"\n",
    "encoded = ''.join(encode(s))\n",
    "print(encoded)\n",
    "decoded = ''.join(decode(encoded))\n",
    "print(decoded)"
   ]
  },
  {
   "cell_type": "markdown",
   "metadata": {},
   "source": [
    "## Problem 2"
   ]
  },
  {
   "cell_type": "markdown",
   "metadata": {},
   "source": [
    "### Q1: Explain the connection between the two algorithms"
   ]
  },
  {
   "cell_type": "markdown",
   "metadata": {},
   "source": [
    "The relationship between the two algorithms is that `Sort2()` uses `Sort1()` as a subroutine to sort smaller chunks of the list `L` before merging them together: \n",
    "\n",
    "* `Sort1()` is an implementation of the insertion sort algorithm, which is a simple sorting algorithm that works well for small lists. This function takes a list `L` and sorts the elements in optionally specified range `[start, end]` in-place. \n",
    "\n",
    "* `Sort2()` divides the input list `L` into smaller slices of size `32` and then uses `Sort1()` to sort each slice. Then, it merges the sorted slices into a final sorted list using the `merge()` function.\n"
   ]
  },
  {
   "cell_type": "markdown",
   "metadata": {},
   "source": [
    "### Q2: What is the complexity of `sort1` in the best case, in the worst case, and on average? Give details on your analysis to get to the answer."
   ]
  },
  {
   "cell_type": "markdown",
   "metadata": {},
   "source": [
    "* **Best Case Complexity**: `O(n)` - When the input sublist is already sorted (i.e., no elements need to be moved) and the algorithm only needs to compare and insert each element once.\n",
    "\n",
    "* **Worst Case Complexity**: `O(n^2)` - When the input sublist is sorted in reverse order, and each element must be moved to the beginning of the sublist.\n",
    "\n",
    "* **Average Case Complexity**: `O(n^2)` - In the average case, when the input list is randomly ordered, the number of comparisons and swaps is still on the order of n^2.\n",
    "\n",
    "`Sort1()` uses the insertion sort algorithm, which has a quadratic time complexity in the worst and average cases, but it performs well in the best case when the sublist is nearly sorted."
   ]
  },
  {
   "cell_type": "markdown",
   "metadata": {},
   "source": [
    "### Q3: What is the complexity of `sort2` in the best case, in the worst case, and on average? Give details on your analysis to get to the answer."
   ]
  },
  {
   "cell_type": "markdown",
   "metadata": {},
   "source": [
    "* **Best Case Complexity**: `O(n log n)` - This is the best-case time complexity for merge sort, and `sort2()` performs merge sort on chunks of the input list.\n",
    "\n",
    "* **Worst Case Complexity**: `O(n log n)` - Merge sort has a consistent worst-case time complexity of O(n log n).\n",
    "\n",
    "* **Average Case Complexity**: `O(n log n)` - Merge sort's time complexity is O(n log n) in the average case as well, making it efficient for large datasets.\n",
    "\n",
    "`sort2()` is essentially a merge sort algorithm that divides the input list into smaller slices, sorts those slices using sort1, and then merges them together. Merge sort consistently performs in O(n log n) time complexity, making it suitable for larger datasets."
   ]
  },
  {
   "cell_type": "markdown",
   "metadata": {},
   "source": [
    "### Q4: Compare the two algorithms and summarise the advantages and disadvantages of using each of the algorithms."
   ]
  },
  {
   "cell_type": "markdown",
   "metadata": {},
   "source": [
    "`sort1()` (Insertion Sort):\n",
    "\n",
    "*Advantages*:\n",
    "* Simple and easy to implement.\n",
    "* Efficient for small lists or partially sorted data (best-case scenario).\n",
    "* Requires minimal additional memory because it sorts in-place.\n",
    "\n",
    "*Disadvantages*:\n",
    "* Inefficient for large unsorted lists (worst-case scenario).\n",
    "* Time complexity is quadratic in the average and worst cases.\n",
    "\n",
    "`sort2()` (Merge Sort with Chunks):\n",
    "\n",
    "*Advantages*:\n",
    "* Consistently good performance with a time complexity of O(n log n) in all cases.\n",
    "* Stable sorting algorithm (preserves the relative order of equal elements).\n",
    "* Suitable for larger datasets.\n",
    "\n",
    "*Disadvantages*:\n",
    "* Requires additional memory for creating temporary lists during the merge step.\n",
    "* May not be as efficient as other sorting algorithms for small lists.\n",
    "\n",
    "\n",
    "In summary, `sort2()` (Merge Sort) is generally a better choice for sorting larger lists and provides a more predictable and efficient sorting solution compared to `sort1()` (Insertion Sort), which is more suitable for small lists or nearly sorted data."
   ]
  }
 ],
 "metadata": {
  "kernelspec": {
   "display_name": "Python 3",
   "language": "python",
   "name": "python3"
  },
  "language_info": {
   "codemirror_mode": {
    "name": "ipython",
    "version": 3
   },
   "file_extension": ".py",
   "mimetype": "text/x-python",
   "name": "python",
   "nbconvert_exporter": "python",
   "pygments_lexer": "ipython3",
   "version": "3.11.5"
  },
  "orig_nbformat": 4
 },
 "nbformat": 4,
 "nbformat_minor": 2
}
