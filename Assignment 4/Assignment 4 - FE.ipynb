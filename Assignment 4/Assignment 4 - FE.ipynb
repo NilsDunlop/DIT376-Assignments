{
 "cells": [
  {
   "cell_type": "markdown",
   "metadata": {},
   "source": [
    "# Assignment 3\n",
    "* ### Francisco Alejandro Erazo Piza, e-mail: guserafr@student.gu.se"
   ]
  },
  {
   "cell_type": "markdown",
   "metadata": {},
   "source": [
    "## Problem 1"
   ]
  },
  {
   "cell_type": "code",
   "execution_count": 1,
   "metadata": {},
   "outputs": [],
   "source": [
    "import re\n",
    "\n",
    "def encode(input_string):\n",
    "    for match in re.finditer(r'(\\D)(\\1*)', input_string):\n",
    "        char, count = match.groups()\n",
    "        if count:\n",
    "            yield f\"{char}{len(count) + 1}\"\n",
    "        else:\n",
    "            yield char\n",
    "\n",
    "def decode(encoded_string):\n",
    "    matches = re.findall(r'(\\D)(\\d+)', encoded_string)\n",
    "    for char, count_str in matches:\n",
    "        count = int(count_str) - 1\n",
    "        if count > 0:\n",
    "            yield char + char * count\n",
    "        else:\n",
    "            yield char\n"
   ]
  },
  {
   "cell_type": "code",
   "execution_count": 2,
   "metadata": {},
   "outputs": [
    {
     "name": "stdout",
     "output_type": "stream",
     "text": [
      "It’s _2so5_2 wow3!3\n",
      "__ooooo__www!!!\n"
     ]
    }
   ],
   "source": [
    "# Example of usage 1:\n",
    "s = \"It’s __sooooo__ wowww!!!\"\n",
    "encoded = ''.join(encode(s))\n",
    "print(encoded)\n",
    "\n",
    "decoded = ''.join(decode(encoded))\n",
    "print(decoded)"
   ]
  },
  {
   "cell_type": "code",
   "execution_count": 3,
   "metadata": {},
   "outputs": [
    {
     "name": "stdout",
     "output_type": "stream",
     "text": [
      "‘5´6*7^5\n",
      "‘‘‘‘‘´´´´´´*******^^^^^\n"
     ]
    }
   ],
   "source": [
    "# Example of usage 2\n",
    "s = \"‘‘‘‘‘´´´´´´*******^^^^^\"\n",
    "encoded = ''.join(encode(s))\n",
    "print(encoded)\n",
    "decoded = ''.join(decode(encoded))\n",
    "print(decoded)"
   ]
  },
  {
   "cell_type": "markdown",
   "metadata": {},
   "source": [
    "## Problem 2"
   ]
  },
  {
   "cell_type": "markdown",
   "metadata": {},
   "source": [
    "### Explain the connection between the two algorithms"
   ]
  },
  {
   "cell_type": "markdown",
   "metadata": {},
   "source": [
    "Algorithm 1 defines a function called merge that takes two inputs (left and right). These inputs are merge into a single sorted list called result.   "
   ]
  }
 ],
 "metadata": {
  "kernelspec": {
   "display_name": "Python 3",
   "language": "python",
   "name": "python3"
  },
  "language_info": {
   "codemirror_mode": {
    "name": "ipython",
    "version": 3
   },
   "file_extension": ".py",
   "mimetype": "text/x-python",
   "name": "python",
   "nbconvert_exporter": "python",
   "pygments_lexer": "ipython3",
   "version": "3.10.8"
  },
  "orig_nbformat": 4
 },
 "nbformat": 4,
 "nbformat_minor": 2
}
