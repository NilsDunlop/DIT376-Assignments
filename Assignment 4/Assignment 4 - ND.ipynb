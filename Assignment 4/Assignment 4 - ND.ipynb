{
 "cells": [
  {
   "cell_type": "markdown",
   "id": "95311667",
   "metadata": {
    "id": "95311667"
   },
   "source": [
    "# Assignment 4\n",
    "## By: **Nils Dunlop, e-mail: gusdunlni@student.gu.se**"
   ]
  },
  {
   "cell_type": "markdown",
   "id": "6467e636",
   "metadata": {
    "id": "6467e636"
   },
   "source": [
    "## Problem 1"
   ]
  },
  {
   "cell_type": "code",
   "execution_count": 9,
   "id": "Ra87Pu1w88yg",
   "metadata": {
    "ExecuteTime": {
     "end_time": "2023-10-04T16:06:45.238402500Z",
     "start_time": "2023-10-04T16:06:45.173591300Z"
    },
    "id": "Ra87Pu1w88yg"
   },
   "outputs": [],
   "source": [
    "def encode(input_string):\n",
    "    # Return None if the input string is empty\n",
    "    if not input_string:\n",
    "        return\n",
    "    current_char, count = input_string[0], 1\n",
    "    for char in input_string[1:]:\n",
    "        if char == current_char:\n",
    "            count += 1\n",
    "        else:\n",
    "            # Yield the encoded substring\n",
    "            yield f\"{current_char}{count}\"\n",
    "            # Reset for the next character and count\n",
    "            current_char, count = char, 1\n",
    "    # Yield the encoded substring for the last character group\n",
    "    yield f\"{current_char}{count}\"\n",
    "\n",
    "def decode(encoded_string):\n",
    "    character, number = '', ''\n",
    "    for char in encoded_string:\n",
    "        # If the character is a digit, append it to the number string\n",
    "        if char.isdigit():\n",
    "            number += char\n",
    "        else:\n",
    "            # If character and number strings are not empty, yield each character\n",
    "            if character and number:\n",
    "                for _ in range(int(number)):\n",
    "                    yield character\n",
    "            # Reset the character and number variables for next iteration\n",
    "            character, number = char, ''\n",
    "\n",
    "    # Yield characters for the last character group\n",
    "    if character and number:\n",
    "        for _ in range(int(number)):\n",
    "            yield character"
   ]
  },
  {
   "cell_type": "code",
   "execution_count": 10,
   "id": "KUPJbGJGgZu3",
   "metadata": {
    "ExecuteTime": {
     "end_time": "2023-10-04T16:06:45.268195900Z",
     "start_time": "2023-10-04T16:06:45.185849900Z"
    },
    "colab": {
     "base_uri": "https://localhost:8080/"
    },
    "id": "KUPJbGJGgZu3",
    "outputId": "e7901b1d-17cc-40b7-bdbb-1c7cedc96a49"
   },
   "outputs": [
    {
     "name": "stdout",
     "output_type": "stream",
     "text": [
      "I1t1'1s1 1_2s1o5_2 1w1o1w3!3\n",
      "It's __sooooo__ wowww!!!\n"
     ]
    }
   ],
   "source": [
    "# Example of usage 1:\n",
    "s = \"It's __sooooo__ wowww!!!\"\n",
    "encoded = ''.join(encode(s))\n",
    "print(encoded)\n",
    "\n",
    "decoded = ''.join(decode(encoded))\n",
    "print(decoded)"
   ]
  },
  {
   "cell_type": "code",
   "execution_count": 11,
   "id": "xfnxH6iRhKgx",
   "metadata": {
    "ExecuteTime": {
     "end_time": "2023-10-04T16:06:45.280396200Z",
     "start_time": "2023-10-04T16:06:45.197116300Z"
    },
    "colab": {
     "base_uri": "https://localhost:8080/"
    },
    "id": "xfnxH6iRhKgx",
    "outputId": "93cb9f2f-57c0-4300-a726-033649bc0dab"
   },
   "outputs": [
    {
     "name": "stdout",
     "output_type": "stream",
     "text": [
      "‘5´6*7^5\n",
      "‘‘‘‘‘´´´´´´*******^^^^^\n"
     ]
    }
   ],
   "source": [
    "# Example of usage 2\n",
    "s = \"‘‘‘‘‘´´´´´´*******^^^^^\"\n",
    "encoded = ''.join(encode(s))\n",
    "print(encoded)\n",
    "decoded = ''.join(decode(encoded))\n",
    "print(decoded)"
   ]
  },
  {
   "cell_type": "markdown",
   "id": "7d7d91f4",
   "metadata": {
    "id": "7d7d91f4"
   },
   "source": [
    "## Problem 2:\n",
    "\n",
    "Analysing Algorithms (seen below) Complexity"
   ]
  },
  {
   "cell_type": "code",
   "execution_count": 12,
   "id": "1f4a7046",
   "metadata": {
    "ExecuteTime": {
     "end_time": "2023-10-04T16:06:45.282386500Z",
     "start_time": "2023-10-04T16:06:45.220581Z"
    },
    "id": "1f4a7046"
   },
   "outputs": [],
   "source": [
    "def merge(left, right):\n",
    "    if len(left) == 0:\n",
    "        return right\n",
    "    elif len(right) == 0:\n",
    "        return left\n",
    "\n",
    "    result = []\n",
    "    i = j = 0\n",
    "\n",
    "    while len(result) < len(left) + len(right):\n",
    "        if left[i] <= right[j]:\n",
    "            result.append(left[i])\n",
    "            i += 1\n",
    "            if i == len(left):\n",
    "                result += right[j:]\n",
    "                break\n",
    "        else:\n",
    "            result.append(right[j])\n",
    "            j += 1\n",
    "            if j == len(right):\n",
    "                result += left[i:]\n",
    "                break\n",
    "\n",
    "    return result\n",
    "\n",
    "def sort1(L, start=0, end=None):\n",
    "    if end is None:\n",
    "        end = len(L) - 1\n",
    "\n",
    "    for i in range(start + 1, end + 1):\n",
    "        key = L[i]\n",
    "        j = i - 1\n",
    "        while j >= start and L[j] > key:\n",
    "            L[j + 1] = L[j]\n",
    "            j -= 1\n",
    "        L[j + 1] = key\n",
    "    return L\n",
    "\n",
    "def sort2(L):\n",
    "    n = len(L)\n",
    "    slice_size = 32\n",
    "\n",
    "    for i in range(0, n, slice_size):\n",
    "        sort1(L, i, min((i + slice_size - 1), n - 1))\n",
    "\n",
    "    size = slice_size\n",
    "    while size < n:\n",
    "        for start in range(0, n, size * 2):\n",
    "            middle_point = start + size - 1\n",
    "            end = min((start + size * 2 - 1), (n - 1))\n",
    "            merged_list = merge(\n",
    "                left=L[start: middle_point + 1],\n",
    "                right=L[middle_point + 1: end + 1])\n",
    "            L[start: start + len(merged_list)] = merged_list\n",
    "        size *= 2\n",
    "    return L"
   ]
  },
  {
   "cell_type": "markdown",
   "id": "DliIYFXBx6YV",
   "metadata": {
    "id": "DliIYFXBx6YV"
   },
   "source": [
    "### A: What is the connection between the two algorithms?\n",
    "\n",
    "**Algorithm descriptions:**\n",
    "\n",
    "* `merge()` is a simple implementation of the merging operation used in Merge Sort.\n",
    "* `sort1()` is a simple implementation of the sorting algorithm known as Insertion Sort.\n",
    "* `sort2()` is a simple implementation of Timsort the sorting algorithm built in python with the `list.sort()` and `sorted()` functions where it is known for its practical and optimized use of Insertion Sort and Merge Sort.\n",
    "\n",
    "The connection between `sort1()` (Insertion Sort), `merge()` (merge operation) and `sort2()` (Timsort) lies in Timsort's utilization of Insertion Sort for its initial sorting phase. In this phase, Timsort sorts small sublists, or 'runs,' using Insertion Sort, exploiting its efficiency on small or partially sorted data. After the runs are sorted, Timsort employs the merging operation within Merge sort, a stable, efficient, comparison-based, divide and conquer sorting algorithm, to merge lists. The combination of Insertion Sort and Merge Sort in Timsort allows it to effectively handle diverse data sets, optimizing for different types of data arrangements and sizes, which addresses some of the inefficiencies of using only Insertion Sort on large, unsorted data sets."
   ]
  },
  {
   "cell_type": "markdown",
   "id": "fqapnPgpyPzB",
   "metadata": {
    "id": "fqapnPgpyPzB"
   },
   "source": [
    "### B: What is the complexity of `sort1` in the best case, in the worst case, and on average? Give details on your analysis to get to the answer.\n",
    "\n",
    "`sort1()` which implements Insertion Sort, can have varying time complexities depending on the nature of the input. Here is a breakdown:\n",
    "\n",
    "1. **Best Case Complexity**: O(n)\n",
    "   * The best case occurs when the input list is already sorted. In this case, each element is compared only once with the preceding elements. Since there are nn elements, the best case time complexity is O(n).\n",
    "\n",
    "   * **Best Case Scenario:**\n",
    "     * In each iteration of the main loop, the inner while loop will not execute, as the list is already sorted, resulting in a linear time complexity.\n",
    "\n",
    "2. **Worst Case Complexity**: O(n²)\n",
    "   * The worst case occurs when the input list is in reverse order. Every element must be compared with every other element, leading to a time complexity of O(n²).\n",
    "\n",
    "   * **Worst Case Scenario:**\n",
    "     * In the worst case, for every element i, i comparisons and i swaps will be made, resulting in 1 + 2 + 3 + ... + (n-1) = n(n-1)/2 = O(n²) time complexity.\n",
    "\n",
    "3. **Average Case Complexity** O(n²)\n",
    "   * On average, the time complexity of Insertion Sort is also O(n²) since, in the average case, each element is likely to be compared with half of the other elements.\n",
    "\n",
    "   * **Average Case Scenario:**\n",
    "     * The average number of comparisons for each element is roughly n/2, leading to a total of n²/2 comparisons and swaps. Resulting in an average time complexity of O(n²).\n",
    "\n",
    "#### **Conclusion**\n",
    "\n",
    "`sort1()`, implementing Insertion Sort, is optimal for smaller or partially sorted datasets but faces efficiency issues, having quadratic time complexity, with larger inputs."
   ]
  },
  {
   "cell_type": "markdown",
   "id": "UGMYOhC59fCo",
   "metadata": {
    "id": "UGMYOhC59fCo"
   },
   "source": [
    "### C:  What is the complexity of `sort2` in the best case, in the worst case, and on average? Give details on your analysis to get to the answer.\n",
    "\n",
    "To fully understand the time complexity of the hybrid algorithm Timsort, we must understand the subprocesses, insertion sort and Merge Sorts merge operation, procedure and time complexities. Given the analysis above, insertion sort has the following time complexities: best case O(n), worst case O(n²) and average case O(n²). Now we will analyze the merge operation procedure and time complexity: \n",
    "\n",
    "**`merge()` Procedure**:\n",
    "\n",
    "1. The algorithm begins by considering two base cases:\n",
    "   * **a.** If the left list is empty, return the right list immediately since there's nothing left to merge from the left side.\n",
    "   * **b.** If the right list is empty, return the left list immediately. \n",
    "2. We initialize two iterators, `i` for the left list and `j` for the right list.\n",
    "3. Iteratively, until both `i` and `j` reach the end of their respective lists:\n",
    "   * **a.** If `left[i]` is ≤ `right[j]`, add `left[i]` to the result list and increment `i`.\n",
    "   * **b.** Else, add `right[j]` to the result list and increment `j`.\n",
    "4. After the loop, if elements remain in either the `left` or `right` list, they are appended to the `result` list. Finally, the merged `result` list is returned.\n",
    "\n",
    "The merge procedure has a best, average and worst-case time complexity of O(n) since every element from both lists will always have to be looked at once.    \n",
    "&nbsp;\n",
    "\n",
    "Following the merge procedure, we will now look at the of the procedure of the `sort2()` (Timsort) algorithm.  \n",
    "\n",
    "**`sort2()` Procedure**:\n",
    "1. The algorithm starts with a predefined slice size of 32. This is because insertion sort is especially efficient on smaller arrays.\n",
    "2. Iterate over the list in intervals of the slice size:\n",
    "   * a. For each slice, apply `sort1()` (insertion sort) from the starting index of the slice to the minimum of the end of the slice or the end of the list.\n",
    "   * b. This ensures that every slice of size 32 is sorted individually.\n",
    "3. Initialize `size` as the slice size. This variable will be used to control the size of the slices being merged and will double with each iteration. The goal is to merge these small slices into progressively larger sorted sections until the whole list is sorted.\n",
    "4. Repeat until the size is less than the length of the list:\n",
    "   * a. For every `start` index from 0 to the length of the list in steps of `size * 2`:\n",
    "      * i. Determine the middle and end points for the merge operation.\n",
    "      * ii. Merge the two slices using the `merge()` function.\n",
    "      * iii. Update the list with the merged slice.\n",
    "   * b. Double the size for the next iteration.\n",
    "5. The fully sorted list `L` is now ready and returned.\n",
    "\n",
    "&nbsp;\n",
    "Given the procedure of `sort2()`, we can now determine its time complexity: \n",
    "1. Insertion Sort on Small Slices:\n",
    "   * Each small slice of size 32 is sorted in O(32²) time in the worst case, since the worst-case time complexity of insertion sort is O(n²). However, since 32 is a constant, we can ignore constants in big O notation. Therefore, for n elements this gives a complexity of O(n).\n",
    "2. Doubling and Merging:\n",
    "   * The merging process is O(n) for each merge (as seen above). Since the slices being merged keep doubling and at each iteration half as many merges are done as the previous iteration, this process has a logarithmic number of steps (log n) relative to the length of the list. The combined complexity of this process is O(n log n).\n",
    "\n",
    "Considering both steps, the dominant factor is the merging step, and the overall time complexity of the `sort2()` algorithm is:\n",
    "\n",
    "* **Best Case**: O(n log n)\n",
    "* **Worst Case**: O(n log n)\n",
    "* **Average Case**: O(n log n)\n",
    "\n",
    "#### **Conclusion**\n",
    "\n",
    "`sort2()`, implementing Timsort, consistently demonstrates a time complexity of O(n log n) in the best, worst, and average cases, thanks to its adaptive and hybrid methodology, making it highly efficient and stable across varied datasets."
   ]
  },
  {
   "cell_type": "markdown",
   "id": "Q8XCpUXr97ms",
   "metadata": {
    "id": "Q8XCpUXr97ms"
   },
   "source": [
    "### D: Compare the two algorithms and summarise the advantages and disadvantages of using each of the algorithms.\n",
    "\n",
    "**`sort1()` - Insertion Sort:**\n",
    "\n",
    "**Advantages:**\n",
    "* **Simplicity**: Easy to understand and implement.\n",
    "* **In-Place Sorting**: Requires a constant amount of extra memory space, O(1), making it memory efficient.\n",
    "* **Efficient on Small Lists**: Especially optimal for small-sized lists or partially sorted lists due to its linear best-case time complexity.\n",
    "\n",
    "**Disadvantages:**\n",
    "* **Scalability**: Inefficient on large lists, with a worse case O(n^2) time complexity, making it less scalable for larger datasets.\n",
    "* **Time Complexity**: Quadratic average time complexity means it is generally outperformed by more advanced algorithms like Merge Sort and Quick Sort on random lists.\n",
    "\n",
    "**`sort2()` - Timsort:**\n",
    "\n",
    "**Advantages:**\n",
    "* **Optimal Merging**: Efficiently handles large datasets by merging sorted subarrays, maintaining a time complexity of O(n log n) in all cases.\n",
    "* **Adaptive**: Optimally utilizes Insertion Sort for small subarrays and Merge Sort for merging, balancing efficiency and optimality.\n",
    "\n",
    "**Disadvantages:**\n",
    "* **Complexity**: More complex to understand and implement compared to simpler sorting algorithms like Insertion Sort.\n",
    "* **Overhead**: The overhead of advanced mechanisms might make it less optimal for small arrays compared to simpler algorithms.\n",
    "\n",
    "### **Conclusion:**\n",
    "`sort1()` is optimal for smaller or partially sorted datasets due to its simplicity and in-place sorting, while `sort2()` is more suited for large and diverse datasets, offering optimal time complexity and stability."
   ]
  }
 ],
 "metadata": {
  "colab": {
   "provenance": []
  },
  "kernelspec": {
   "display_name": "Python 3 (ipykernel)",
   "language": "python",
   "name": "python3"
  },
  "language_info": {
   "codemirror_mode": {
    "name": "ipython",
    "version": 3
   },
   "file_extension": ".py",
   "mimetype": "text/x-python",
   "name": "python",
   "nbconvert_exporter": "python",
   "pygments_lexer": "ipython3",
   "version": "3.10.9"
  }
 },
 "nbformat": 4,
 "nbformat_minor": 5
}
