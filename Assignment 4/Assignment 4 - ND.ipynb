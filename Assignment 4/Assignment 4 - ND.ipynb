{
  "cells": [
    {
      "cell_type": "markdown",
      "metadata": {
        "id": "95311667"
      },
      "source": [
        "# Assignment 4\n",
        "## By: **Nils Dunlop, e-mail: gusdunlni@student.gu.se**"
      ],
      "id": "95311667"
    },
    {
      "cell_type": "markdown",
      "metadata": {
        "id": "6467e636"
      },
      "source": [
        "## Problem 1"
      ],
      "id": "6467e636"
    },
    {
      "cell_type": "code",
      "execution_count": 1,
      "metadata": {
        "id": "Ra87Pu1w88yg"
      },
      "outputs": [],
      "source": [
        "def encode(input_string):\n",
        "    # Return None if the input string is empty\n",
        "    if not input_string:\n",
        "        return\n",
        "    current_char, count = input_string[0], 1\n",
        "    for char in input_string[1:]:\n",
        "        if char == current_char:\n",
        "            count += 1\n",
        "        else:\n",
        "            # Yield the encoded substring\n",
        "            yield f\"{current_char}{count}\"\n",
        "            # Reset for the next character and count\n",
        "            current_char, count = char, 1\n",
        "    # Yield the encoded substring for the last character group\n",
        "    yield f\"{current_char}{count}\"\n",
        "\n",
        "def decode(encoded_string):\n",
        "    decoded_string = []\n",
        "    character, number = '', ''\n",
        "    for char in encoded_string:\n",
        "      # If the character is a digit, append it to the number string\n",
        "        if char.isdigit():\n",
        "            number += char\n",
        "        else:\n",
        "            # If character and number strings are not empty, append the decoded substring\n",
        "            if character and number:\n",
        "                decoded_string.append(character * int(number))\n",
        "            # Reset the character and number variables for next iteration\n",
        "            character, number = char, ''\n",
        "    # Append the decoded substring for the last character group\n",
        "    if character and number:\n",
        "        decoded_string.append(character * int(number))\n",
        "    # Join and return the list of decoded substrings to get the final decoded string\n",
        "    return ''.join(decoded_string)"
      ],
      "id": "Ra87Pu1w88yg"
    },
    {
      "cell_type": "code",
      "source": [
        "# Example of usage 1:\n",
        "s = \"It's __sooooo__ wowww!!!\"\n",
        "encoded = ''.join(encode(s))\n",
        "print(encoded)\n",
        "\n",
        "decoded = ''.join(decode(encoded))\n",
        "print(decoded)"
      ],
      "metadata": {
        "id": "KUPJbGJGgZu3",
        "outputId": "e7901b1d-17cc-40b7-bdbb-1c7cedc96a49",
        "colab": {
          "base_uri": "https://localhost:8080/"
        }
      },
      "id": "KUPJbGJGgZu3",
      "execution_count": 2,
      "outputs": [
        {
          "output_type": "stream",
          "name": "stdout",
          "text": [
            "I1t1'1s1 1_2s1o5_2 1w1o1w3!3\n",
            "It's __sooooo__ wowww!!!\n"
          ]
        }
      ]
    },
    {
      "cell_type": "code",
      "source": [
        "# Example of usage 2\n",
        "s = \"‘‘‘‘‘´´´´´´*******^^^^^\"\n",
        "encoded = ''.join(encode(s))\n",
        "print(encoded)\n",
        "decoded = ''.join(decode(encoded))\n",
        "print(decoded)"
      ],
      "metadata": {
        "colab": {
          "base_uri": "https://localhost:8080/"
        },
        "id": "xfnxH6iRhKgx",
        "outputId": "93cb9f2f-57c0-4300-a726-033649bc0dab"
      },
      "id": "xfnxH6iRhKgx",
      "execution_count": 3,
      "outputs": [
        {
          "output_type": "stream",
          "name": "stdout",
          "text": [
            "‘5´6*7^5\n",
            "‘‘‘‘‘´´´´´´*******^^^^^\n"
          ]
        }
      ]
    },
    {
      "cell_type": "markdown",
      "metadata": {
        "id": "7d7d91f4"
      },
      "source": [
        "## Problem 2:\n",
        "\n",
        "Analysing Algorithms (seen below) Complexity"
      ],
      "id": "7d7d91f4"
    },
    {
      "cell_type": "code",
      "execution_count": 4,
      "metadata": {
        "id": "1f4a7046"
      },
      "outputs": [],
      "source": [
        "def merge(left, right):\n",
        "    if len(left) == 0:\n",
        "        return right\n",
        "    elif len(right) == 0:\n",
        "        return left\n",
        "\n",
        "    result = []\n",
        "    i = j = 0\n",
        "\n",
        "    while len(result) < len(left) + len(right):\n",
        "        if left[i] <= right[j]:\n",
        "            result.append(left[i])\n",
        "            i += 1\n",
        "            if i == len(left):\n",
        "                result += right[j:]\n",
        "                break\n",
        "        else:\n",
        "            result.append(right[j])\n",
        "            j += 1\n",
        "            if j == len(right):\n",
        "                result += left[i:]\n",
        "                break\n",
        "\n",
        "    return result\n",
        "\n",
        "def sort1(L, start=0, end=None):\n",
        "    if end is None:\n",
        "        end = len(L) - 1\n",
        "\n",
        "    for i in range(start + 1, end + 1):\n",
        "        key = L[i]\n",
        "        j = i - 1\n",
        "        while j >= start and L[j] > key:\n",
        "            L[j + 1] = L[j]\n",
        "            j -= 1\n",
        "        L[j + 1] = key\n",
        "    return L\n",
        "\n",
        "def sort2(L):\n",
        "    n = len(L)\n",
        "    slice_size = 32\n",
        "\n",
        "    for i in range(0, n, slice_size):\n",
        "        sort1(L, i, min((i + slice_size - 1), n - 1))\n",
        "\n",
        "    size = slice_size\n",
        "    while size < n:\n",
        "        for start in range(0, n, size * 2):\n",
        "            middle_point = start + size - 1\n",
        "            end = min((start + size * 2 - 1), (n - 1))\n",
        "            merged_list = merge(\n",
        "                left=L[start: middle_point + 1],\n",
        "                right=L[middle_point + 1: end + 1])\n",
        "            L[start: start + len(merged_list)] = merged_list\n",
        "        size *= 2\n",
        "    return L"
      ],
      "id": "1f4a7046"
    },
    {
      "cell_type": "markdown",
      "source": [
        "### A: What is the connection between the two algorithms?\n",
        "\n",
        "**Algorithm descriptions:**\n",
        "\n",
        "* `sort1()` is an simple implementation of the sorting algorithm known as Insertion Sort.\n",
        "* `sort2()` is an simple implementation of Timsort the sorting algorithm built in python with the `list.sort()` and `sorted()` functions where it is known for its practical and optimized use of Insertion Sort and Merge Sort.\n",
        "\n",
        "The connection between `sort1()` (Insertion Sort) and `sort2()` (Timsort) lies in Timsort's utilization of Insertion Sort for its initial sorting phase. In this phase, Timsort sorts small sublists, or 'runs,' using Insertion Sort, exploiting its efficiency on small or partially sorted data. After the runs are sorted, Timsort employs Merge Sort, a stable, efficient, comparison-based, divide and conquer sorting algorithm, to merge these runs. The combination of Insertion Sort and Merge Sort in Timsort allows it to effectively handle diverse data sets, optimizing for different types of data arrangements and sizes, which addresses some of the inefficiencies of using only Insertion Sort on large, unsorted data sets."
      ],
      "metadata": {
        "id": "DliIYFXBx6YV"
      },
      "id": "DliIYFXBx6YV"
    },
    {
      "cell_type": "markdown",
      "source": [
        "### B: What is the complexity of `sort1` in the best case, in the worst case, and on average? Give details on your analysis to get to the answer.\n",
        "\n",
        "`sort1()` which implements Insertion Sort, can have varying time complexities depending on the nature of the input. Here is a breakdown:\n",
        "\n",
        "1. **Best Case Complexity**: O(n)\n",
        "\n",
        "  The best case occurs when the input list is already sorted. In this case, each element is compared only once with the preceding elements. Since there are nn elements, the best case time complexity is O(n).\n",
        "  \n",
        "  **Best Case Scenario:**\n",
        "\n",
        "  In each iteration of the main loop, the inner while loop will not execute, as the list is already sorted, resulting in a linear time complexity.\n",
        "\n",
        "2. **Worst Case Complexity**: O(n^2)\n",
        "\n",
        "  The worst case occurs when the input list is in reverse order. Every element must be compared with every other element, leading to a time complexity of O(n^2).\n",
        "\n",
        "  **Worst Case Scenario:**\n",
        "\n",
        "  In the worst case, for every element i, i comparisons and i swaps will be made, resulting in 1 + 2 + 3 + ... + (n-1) = n(n-1)/2 = O(n^2) time complexity.\n",
        "\n",
        "3. **Average Case Complexity** O(n^2)\n",
        "  \n",
        "  On average, the time complexity of Insertion Sort is also O(n^2) since, in the average case, each element is likely to be compared with half of the other elements.\n",
        "\n",
        "  **Average Case Scenario:**\n",
        "\n",
        "  The average number of comparisons for each element is roughly n/2, leading to a total of n^2/2 comparisons and swaps. Resulting in a average time complexity of O(n^2).\n",
        "\n",
        "#### **Conclusion**\n",
        "\n",
        "`sort1()`, implementing Insertion Sort, is optimal for smaller or partially sorted datasets but faces efficiency issues, having quadratic time complexity, with larger inputs."
      ],
      "metadata": {
        "id": "fqapnPgpyPzB"
      },
      "id": "fqapnPgpyPzB"
    },
    {
      "cell_type": "markdown",
      "source": [
        "### C:  What is the complexity of `sort2` in the best case, in the worst case, and on average? Give details on your analysis to get to the answer.\n",
        "\n",
        "`sort2()` which implements Timsort, has a unified time complexity regardless of the nature of the input data. Here is a breakdown of the complexities:\n",
        "\n",
        "1. **Best Case Complexity**: O(n log n)\n",
        "\n",
        "  The best case is observed when the input list is already sorted. Even in this scenario, Timsort needs to divide the list into runs and merge them, maintaining a time complexity of O(n log n).\n",
        "\n",
        "2. **Worst Case Complexity**: O(n log n)\n",
        "\n",
        "  The worst case arises when the input list is in reverse order or is random. Regardless, Timsort remains stable and optimal due to its efficient merge process, maintaining a time complexity of O(n log n).\n",
        "\n",
        "3. **Average Case Complexity**: O(n log n)\n",
        "  \n",
        "  On average or for random input lists, due to its adaptive nature, Timsort generally exhibits a time complexity of (n log n).\n",
        "\n",
        "#### **Conclusion**\n",
        "\n",
        "`sort2()`, implementing Timsort, consistently demonstrates a time complexity of O(n log n) in the best, worst, and average cases, thanks to its adaptive and hybrid methodology, making it highly efficient and stable across varied datasets."
      ],
      "metadata": {
        "id": "UGMYOhC59fCo"
      },
      "id": "UGMYOhC59fCo"
    },
    {
      "cell_type": "markdown",
      "source": [
        "### D: Compare the two algorithms and summarise the advantages and disadvantages of using each of the algorithms.\n",
        "\n",
        "**`sort1()` - Insertion Sort:**\n",
        "\n",
        "**Advantages:**\n",
        "* **Simplicity**: Easy to understand and implement.\n",
        "* **In-Place Sorting**: Requires a constant amount of extra memory space, O(1), making it memory efficient.\n",
        "* **Efficient on Small Lists**: Especially optimal for small-sized lists or partially sorted lists due to its linear best-case time complexity.\n",
        "\n",
        "**Disadvantages:**\n",
        "* **Scalability**: Inefficient on large lists, with a worse case O(n^2) time complexity, making it less scalable for larger datasets.\n",
        "* **Time Complexity**: Quadratic average time complexity means it is generally outperformed by more advanced algorithms like Merge Sort and Quick Sort on random lists.\n",
        "\n",
        "**`sort2()` - Timsort:**\n",
        "\n",
        "**Advantages:**\n",
        "* **Optimal Merging**: Efficiently handles large datasets by merging sorted subarrays, maintaining a time complexity of O(n log n) in all cases.\n",
        "* **Adaptive**: Optimally utilizes Insertion Sort for small subarrays and Merge Sort for merging, balancing efficiency and optimality.\n",
        "\n",
        "**Disadvantages:**\n",
        "* **Complexity**: More complex to understand and implement compared to simpler sorting algorithms like Insertion Sort.\n",
        "* **Overhead**: The overhead of advanced mechanisms might make it less optimal for small arrays compared to simpler algorithms.\n",
        "\n",
        "### **Conclusion:**\n",
        "`sort1()` is optimal for smaller or partially sorted datasets due to its simplicity and in-place sorting, while `sort2()` is more suited for large and diverse datasets, offering optimal time complexity and stability."
      ],
      "metadata": {
        "id": "Q8XCpUXr97ms"
      },
      "id": "Q8XCpUXr97ms"
    }
  ],
  "metadata": {
    "colab": {
      "provenance": []
    },
    "kernelspec": {
      "display_name": "Python 3 (ipykernel)",
      "language": "python",
      "name": "python3"
    },
    "language_info": {
      "codemirror_mode": {
        "name": "ipython",
        "version": 3
      },
      "file_extension": ".py",
      "mimetype": "text/x-python",
      "name": "python",
      "nbconvert_exporter": "python",
      "pygments_lexer": "ipython3",
      "version": "3.10.9"
    }
  },
  "nbformat": 4,
  "nbformat_minor": 5
}